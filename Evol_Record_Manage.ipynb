{
 "cells": [
  {
   "cell_type": "markdown",
   "metadata": {},
   "source": [
    "## Exp Record Editting"
   ]
  },
  {
   "cell_type": "code",
   "execution_count": 1,
   "metadata": {},
   "outputs": [],
   "source": [
    "import pandas as pd\n",
    "import numpy as np\n",
    "df = pd.read_excel(r\"D:\\ExpRecord_tmp.xlsx\")\n",
    "df_formal = pd.read_excel(r\"S:\\ExpSpecTable_Augment.xlsx\")"
   ]
  },
  {
   "cell_type": "code",
   "execution_count": 2,
   "metadata": {
    "scrolled": true
   },
   "outputs": [],
   "source": [
    "def process_concat_cells(df, out_excel, animal):\n",
    "    if isinstance(df,str):\n",
    "        df = pd.read_excel(df)\n",
    "    df = df.dropna(axis=0, how='all') # drop lines full with nan\n",
    "    df = df.reset_index(drop=True)  # (index=range(df.shape[0]))  # make the index contiguous!\n",
    "    row_num = df.shape[0]\n",
    "    #%%\n",
    "    msk = ~ df.ephysFN.isna()  # 500 rows\n",
    "    # df.ephysFN[msk].str.contains(\"Alfa\")  # 436 rows containing Alfa\n",
    "    ExpEphysNames = df.ephysFN[df.ephysFN.str.contains(Animal)==True]\n",
    "    RowidEphs = ExpEphysNames.index\n",
    "    if Animal is \"Alfa\":\n",
    "        search_str = \"Alfa|ALfa\"\n",
    "    else:\n",
    "        search_str = \"Beto\"\n",
    "    ExpBhv2Names = df.expControlFN[df.expControlFN.str.contains(search_str)==True]\n",
    "    RowidBhv = ExpEphysNames.index\n",
    "    assert RowidEphs is RowidBhv\n",
    "    #%%\n",
    "    df.comments.fillna(value=\"\", inplace=True)\n",
    "    df.comments = df.comments.astype(\"str\")\n",
    "    df.stimuli.fillna(value=\"\", inplace=True)\n",
    "    df.stimuli = df.stimuli.astype(\"str\")\n",
    "    #%%\n",
    "    for Expi, rowi in enumerate(RowidEphs):\n",
    "        if Expi != len(RowidEphs) - 1:\n",
    "            nextrow = RowidEphs[Expi + 1]\n",
    "        else:\n",
    "            nextrow = row_num\n",
    "        print(\"\\nExp %d\\t %s\\t %s\"%( Expi, df.ephysFN[rowi], df.expControlFN[rowi]))\n",
    "        print(df.comments[rowi:nextrow].str.cat(sep=\"\\n\"))\n",
    "    #%%\n",
    "    stimuli_miss_cnt = 0\n",
    "    df_sort = df[df.ephysFN.str.contains(Animal)==True]\n",
    "    df_sort = df_sort.reset_index(drop=True)\n",
    "    for Expi, rowi in enumerate(RowidEphs):\n",
    "        if Expi != len(RowidEphs) - 1:\n",
    "            nextrow = RowidEphs[Expi + 1]\n",
    "        else:\n",
    "            nextrow = row_num\n",
    "        df_sort.comments[Expi] = df.comments[rowi:nextrow].str.cat(sep=\"\\n\")\n",
    "        df_sort.ephysFN[Expi] = df.ephysFN[rowi]\n",
    "        df_sort.expControlFN[Expi] = df.expControlFN[rowi]\n",
    "        if \"Stimuli\" in df.stimuli[rowi]:\n",
    "            df_sort.stimuli[Expi] = df.stimuli[rowi]\n",
    "        else:\n",
    "            df_sort.stimuli[Expi] = \"\"\n",
    "            stimuli_miss_cnt += 1\n",
    "            # print out info for further examination\n",
    "            print(\"\\nExp %d\\t %s\\t %s\" % (Expi, df.ephysFN[rowi], df.expControlFN[rowi]))\n",
    "            print(df.stimuli[rowi:nextrow].str.cat(sep=\"\"))\n",
    "            if (\"Abort\" in df_sort.comments[Expi]) or (\"abort\" in df_sort.comments[Expi]):\n",
    "                print(\"Do aborted! No worry.\")\n",
    "    print(stimuli_miss_cnt, \"stimuli missing\")\n",
    "    #%%\n",
    "    df_sort.to_excel(out_excel,index=False)\n",
    "    return df_sort"
   ]
  },
  {
   "cell_type": "code",
   "execution_count": 37,
   "metadata": {},
   "outputs": [
    {
     "data": {
      "text/plain": [
       "141"
      ]
     },
     "execution_count": 37,
     "metadata": {},
     "output_type": "execute_result"
    }
   ],
   "source": [
    "(df_formal.expControlFN==name).nonzero()[0][0]"
   ]
  },
  {
   "cell_type": "code",
   "execution_count": 3,
   "metadata": {},
   "outputs": [],
   "source": [
    "def concat_table(df_old, df_new, addexplabel=None, out_path=None):\n",
    "    if isinstance(df_old,str):\n",
    "        out_path = df_old\n",
    "        df_old = pd.read_excel(df_old)\n",
    "    if isinstance(df_new,str):\n",
    "        df_new = pd.read_excel(df_new)\n",
    "    # Check if the experiments in the new datatable has been recorded\n",
    "    break_flag = False\n",
    "    for name in df_sort.expControlFN:\n",
    "        if (df_old.expControlFN==name).any():\n",
    "            print(\"%s  has been recorded in the excel index %d, please check\"%(name, (df_old.expControlFN==name).nonzero()[0][0]))\n",
    "            break_flag = True\n",
    "    if break_flag:\n",
    "        raise ValueError\n",
    "    if addexplabel is not None:\n",
    "        df_new.Exp_collection[:] = addexplabel\n",
    "    df_cat = pd.concat([df_old,df_new], axis=0, ignore_index=True)\n",
    "    df_cat.to_excel(out_path,index=False)\n",
    "    return df_cat\n",
    "# pd.concat([df_formal,df_sort], axis=0, ignore_index=True)"
   ]
  },
  {
   "cell_type": "code",
   "execution_count": 7,
   "metadata": {
    "scrolled": true
   },
   "outputs": [
    {
     "name": "stdout",
     "output_type": "stream",
     "text": [
      "\n",
      "Exp 0\t Alfa64chan-17032020-001\t 200317_Alfa_rfMapper_basic\n",
      "001 RF MAPPER start at 1:27\n",
      "2 degrees, looking at SU in ch. 3, very sparse…\n",
      "Doesn’t seen visually responsive, we will try bigger.\n",
      "Or ch 31. looks good\n",
      "5 blocks complete, at 132\n",
      "Completed\n",
      "\n",
      "Exp 1\t Alfa64chan-17032020-002\t 200317_Alfa_rfMapper_basic(1)\n",
      "002 Rf mapper start at 1:35. 0.75 degrees\n",
      "5 complete stop at 1:38 ish\n",
      "Completed\n",
      "\n",
      "Exp 2\t Alfa64chan-17032020-003\t 200317_Alfa_generate_integrated(2)\n",
      "003 Generate integrated start at 1:45\n",
      "Ch. 31, whole channel, just hash\n",
      "31 [0 -3.5]  4 1 'CMAES'\n",
      "Didn’t seem to go anywhere\n",
      "25 blocks complete stop at 159\n",
      "Completed\n",
      "\n",
      "Exp 3\t Alfa64chan-17032020-004\t 200317_Alfa_generate_integrated(3)\n",
      "004 generate integrated start at 200\n",
      "Ch 21, whole ch, just hash seems responsive\n",
      "21 [0 -1.5] 4 1 'CMAES'\n",
      "Block 21, still looks to be climbing\n",
      "Stop at block 31, 2:18\n",
      "Completed\n",
      "\n",
      "Exp 4\t Alfa64chan-17032020-005\t 200317_Alfa_generate_integrated(4)\n",
      "005 Start at 2:20\n",
      "Ch 21, whole ch, just hash seems responsive\n",
      "21 [0 -1.5] 4 1 'ZOHA_Sphere_euclid_lr'\n",
      "Mu exponential decay from 50 deg to 5 deg in 100 generations, learning rate 1.5\n",
      "Reward upped to 60\n",
      "Block 18, still climbing\n",
      "Stopped after 22 blocks, at 235\n",
      "Completed\n",
      "\n",
      "Exp 5\t Alfa64chan-17032020-006\t 200317_Alfa_generate_integrated(5)\n",
      "006 start 2:40\n",
      "Ch 21\n",
      "21 [0 -1.5] 4 1 'ZOHA_Sphere_euclid_lr'\n",
      "Try the new Inverse function decay of mu! Decay from 70-20 degree.\n",
      "Evolution goes pretty well! Even better than the last 2 exponential decay ones.\n",
      "Was going to stop but looks like its still going\n",
      "Okay stopped at 258, 26 blocks\n",
      "Completed\n",
      "\n",
      "Exp 6\t Alfa64chan-17032020-007\t 200317_Alfa_generate_integrated(6)\n",
      "007 start at 302\n",
      "Ch 21 [0 -1.5] 4 1 'ZOHA_Sphere_lr euclid_ReducDim'\n",
      "Exactly same setting with last one, just restricted to a 50D subspace!\n",
      "Starting to take breaks, upped reward to 160 +25\n",
      "Completed\n"
     ]
    },
    {
     "name": "stderr",
     "output_type": "stream",
     "text": [
      "C:\\ProgramData\\Anaconda3\\lib\\site-packages\\ipykernel_launcher.py:41: SettingWithCopyWarning: \n",
      "A value is trying to be set on a copy of a slice from a DataFrame\n",
      "\n",
      "See the caveats in the documentation: http://pandas.pydata.org/pandas-docs/stable/indexing.html#indexing-view-versus-copy\n",
      "C:\\ProgramData\\Anaconda3\\lib\\site-packages\\ipykernel_launcher.py:42: SettingWithCopyWarning: \n",
      "A value is trying to be set on a copy of a slice from a DataFrame\n",
      "\n",
      "See the caveats in the documentation: http://pandas.pydata.org/pandas-docs/stable/indexing.html#indexing-view-versus-copy\n",
      "C:\\ProgramData\\Anaconda3\\lib\\site-packages\\ipykernel_launcher.py:43: SettingWithCopyWarning: \n",
      "A value is trying to be set on a copy of a slice from a DataFrame\n",
      "\n",
      "See the caveats in the documentation: http://pandas.pydata.org/pandas-docs/stable/indexing.html#indexing-view-versus-copy\n",
      "C:\\ProgramData\\Anaconda3\\lib\\site-packages\\ipykernel_launcher.py:45: SettingWithCopyWarning: \n",
      "A value is trying to be set on a copy of a slice from a DataFrame\n",
      "\n",
      "See the caveats in the documentation: http://pandas.pydata.org/pandas-docs/stable/indexing.html#indexing-view-versus-copy\n"
     ]
    },
    {
     "name": "stdout",
     "output_type": "stream",
     "text": [
      "0 stimuli missing\n"
     ]
    }
   ],
   "source": [
    "Animal = \"Alfa\" # \"Alfa\" \"ALfa\"\n",
    "df_sort = process_concat_cells(r\"D:\\ExpRecord_tmp.xlsx\", \"D:\\ExpRecord_out.xlsx\", animal=Animal)"
   ]
  },
  {
   "cell_type": "code",
   "execution_count": 8,
   "metadata": {},
   "outputs": [
    {
     "data": {
      "text/html": [
       "<div>\n",
       "<style scoped>\n",
       "    .dataframe tbody tr th:only-of-type {\n",
       "        vertical-align: middle;\n",
       "    }\n",
       "\n",
       "    .dataframe tbody tr th {\n",
       "        vertical-align: top;\n",
       "    }\n",
       "\n",
       "    .dataframe thead th {\n",
       "        text-align: right;\n",
       "    }\n",
       "</style>\n",
       "<table border=\"1\" class=\"dataframe\">\n",
       "  <thead>\n",
       "    <tr style=\"text-align: right;\">\n",
       "      <th></th>\n",
       "      <th>ephysFN</th>\n",
       "      <th>expControlFN</th>\n",
       "      <th>stimuli</th>\n",
       "      <th>comments</th>\n",
       "      <th>Exp_collection</th>\n",
       "      <th>Expi</th>\n",
       "      <th>pref_chan</th>\n",
       "      <th>stim_size</th>\n",
       "    </tr>\n",
       "  </thead>\n",
       "  <tbody>\n",
       "    <tr>\n",
       "      <th>0</th>\n",
       "      <td>Alfa64chan-17032020-001</td>\n",
       "      <td>200317_Alfa_rfMapper_basic</td>\n",
       "      <td>N:\\Stimuli\\2019-06-RF-mapping\\2020-03-17-Alfa</td>\n",
       "      <td>001 RF MAPPER start at 1:27\\n2 degrees, lookin...</td>\n",
       "      <td>NaN</td>\n",
       "      <td>NaN</td>\n",
       "      <td>NaN</td>\n",
       "      <td>NaN</td>\n",
       "    </tr>\n",
       "    <tr>\n",
       "      <th>1</th>\n",
       "      <td>Alfa64chan-17032020-002</td>\n",
       "      <td>200317_Alfa_rfMapper_basic(1)</td>\n",
       "      <td>N:\\Stimuli\\2019-06-RF-mapping\\2020-03-17-Alfa</td>\n",
       "      <td>002 Rf mapper start at 1:35. 0.75 degrees\\n5 c...</td>\n",
       "      <td>NaN</td>\n",
       "      <td>NaN</td>\n",
       "      <td>NaN</td>\n",
       "      <td>NaN</td>\n",
       "    </tr>\n",
       "    <tr>\n",
       "      <th>2</th>\n",
       "      <td>Alfa64chan-17032020-003</td>\n",
       "      <td>200317_Alfa_generate_integrated(2)</td>\n",
       "      <td>N:\\Stimuli\\2019-12-Evolutions\\2020-03-17-Alfa-...</td>\n",
       "      <td>003 Generate integrated start at 1:45\\nCh. 31,...</td>\n",
       "      <td>NaN</td>\n",
       "      <td>NaN</td>\n",
       "      <td>NaN</td>\n",
       "      <td>NaN</td>\n",
       "    </tr>\n",
       "    <tr>\n",
       "      <th>3</th>\n",
       "      <td>Alfa64chan-17032020-004</td>\n",
       "      <td>200317_Alfa_generate_integrated(3)</td>\n",
       "      <td>N:\\Stimuli\\2019-12-Evolutions\\2020-03-17-Alfa-...</td>\n",
       "      <td>004 generate integrated start at 200\\nCh 21, w...</td>\n",
       "      <td>NaN</td>\n",
       "      <td>NaN</td>\n",
       "      <td>NaN</td>\n",
       "      <td>NaN</td>\n",
       "    </tr>\n",
       "    <tr>\n",
       "      <th>4</th>\n",
       "      <td>Alfa64chan-17032020-005</td>\n",
       "      <td>200317_Alfa_generate_integrated(4)</td>\n",
       "      <td>N:\\Stimuli\\2019-12-Evolutions\\2020-03-17-Alfa-...</td>\n",
       "      <td>005 Start at 2:20\\nCh 21, whole ch, just hash ...</td>\n",
       "      <td>NaN</td>\n",
       "      <td>NaN</td>\n",
       "      <td>NaN</td>\n",
       "      <td>NaN</td>\n",
       "    </tr>\n",
       "    <tr>\n",
       "      <th>5</th>\n",
       "      <td>Alfa64chan-17032020-006</td>\n",
       "      <td>200317_Alfa_generate_integrated(5)</td>\n",
       "      <td>N:\\Stimuli\\2019-12-Evolutions\\2020-03-17-Alfa-...</td>\n",
       "      <td>006 start 2:40\\nCh 21\\n21 [0 -1.5] 4 1 'ZOHA_S...</td>\n",
       "      <td>NaN</td>\n",
       "      <td>NaN</td>\n",
       "      <td>NaN</td>\n",
       "      <td>NaN</td>\n",
       "    </tr>\n",
       "    <tr>\n",
       "      <th>6</th>\n",
       "      <td>Alfa64chan-17032020-007</td>\n",
       "      <td>200317_Alfa_generate_integrated(6)</td>\n",
       "      <td>N:\\Stimuli\\2019-12-Evolutions\\2020-03-17-Alfa-...</td>\n",
       "      <td>007 start at 302\\nCh 21 [0 -1.5] 4 1 'ZOHA_Sph...</td>\n",
       "      <td>NaN</td>\n",
       "      <td>NaN</td>\n",
       "      <td>NaN</td>\n",
       "      <td>NaN</td>\n",
       "    </tr>\n",
       "  </tbody>\n",
       "</table>\n",
       "</div>"
      ],
      "text/plain": [
       "                   ephysFN                        expControlFN  \\\n",
       "0  Alfa64chan-17032020-001          200317_Alfa_rfMapper_basic   \n",
       "1  Alfa64chan-17032020-002       200317_Alfa_rfMapper_basic(1)   \n",
       "2  Alfa64chan-17032020-003  200317_Alfa_generate_integrated(2)   \n",
       "3  Alfa64chan-17032020-004  200317_Alfa_generate_integrated(3)   \n",
       "4  Alfa64chan-17032020-005  200317_Alfa_generate_integrated(4)   \n",
       "5  Alfa64chan-17032020-006  200317_Alfa_generate_integrated(5)   \n",
       "6  Alfa64chan-17032020-007  200317_Alfa_generate_integrated(6)   \n",
       "\n",
       "                                             stimuli  \\\n",
       "0      N:\\Stimuli\\2019-06-RF-mapping\\2020-03-17-Alfa   \n",
       "1      N:\\Stimuli\\2019-06-RF-mapping\\2020-03-17-Alfa   \n",
       "2  N:\\Stimuli\\2019-12-Evolutions\\2020-03-17-Alfa-...   \n",
       "3  N:\\Stimuli\\2019-12-Evolutions\\2020-03-17-Alfa-...   \n",
       "4  N:\\Stimuli\\2019-12-Evolutions\\2020-03-17-Alfa-...   \n",
       "5  N:\\Stimuli\\2019-12-Evolutions\\2020-03-17-Alfa-...   \n",
       "6  N:\\Stimuli\\2019-12-Evolutions\\2020-03-17-Alfa-...   \n",
       "\n",
       "                                            comments  Exp_collection  Expi  \\\n",
       "0  001 RF MAPPER start at 1:27\\n2 degrees, lookin...             NaN   NaN   \n",
       "1  002 Rf mapper start at 1:35. 0.75 degrees\\n5 c...             NaN   NaN   \n",
       "2  003 Generate integrated start at 1:45\\nCh. 31,...             NaN   NaN   \n",
       "3  004 generate integrated start at 200\\nCh 21, w...             NaN   NaN   \n",
       "4  005 Start at 2:20\\nCh 21, whole ch, just hash ...             NaN   NaN   \n",
       "5  006 start 2:40\\nCh 21\\n21 [0 -1.5] 4 1 'ZOHA_S...             NaN   NaN   \n",
       "6  007 start at 302\\nCh 21 [0 -1.5] 4 1 'ZOHA_Sph...             NaN   NaN   \n",
       "\n",
       "   pref_chan  stim_size  \n",
       "0        NaN        NaN  \n",
       "1        NaN        NaN  \n",
       "2        NaN        NaN  \n",
       "3        NaN        NaN  \n",
       "4        NaN        NaN  \n",
       "5        NaN        NaN  \n",
       "6        NaN        NaN  "
      ]
     },
     "execution_count": 8,
     "metadata": {},
     "output_type": "execute_result"
    }
   ],
   "source": [
    "df_sort"
   ]
  },
  {
   "cell_type": "code",
   "execution_count": 9,
   "metadata": {
    "scrolled": true
   },
   "outputs": [
    {
     "name": "stderr",
     "output_type": "stream",
     "text": [
      "C:\\ProgramData\\Anaconda3\\lib\\site-packages\\ipykernel_launcher.py:16: SettingWithCopyWarning: \n",
      "A value is trying to be set on a copy of a slice from a DataFrame\n",
      "\n",
      "See the caveats in the documentation: http://pandas.pydata.org/pandas-docs/stable/indexing.html#indexing-view-versus-copy\n",
      "  app.launch_new_instance()\n",
      "C:\\ProgramData\\Anaconda3\\lib\\site-packages\\ipykernel_launcher.py:17: FutureWarning: Sorting because non-concatenation axis is not aligned. A future version\n",
      "of pandas will change to not sort by default.\n",
      "\n",
      "To accept the future behavior, pass 'sort=True'.\n",
      "\n",
      "To retain the current behavior and silence the warning, pass sort=False\n",
      "\n"
     ]
    }
   ],
   "source": [
    "if Animal == \"Beto\":\n",
    "    table_old = r\"S:\\ExpSpecTable_Augment.xlsx\"\n",
    "elif Animal == \"Alfa\":\n",
    "    table_old = r\"S:\\Exp_Record_Alfa.xlsx\"\n",
    "df_cat = concat_table(table_old, r\"D:\\ExpRecord_out.xlsx\", addexplabel=\"Optim_tuning\")"
   ]
  },
  {
   "cell_type": "code",
   "execution_count": 22,
   "metadata": {},
   "outputs": [
    {
     "name": "stderr",
     "output_type": "stream",
     "text": [
      "C:\\ProgramData\\Anaconda3\\lib\\site-packages\\ipykernel_launcher.py:1: SettingWithCopyWarning: \n",
      "A value is trying to be set on a copy of a slice from a DataFrame\n",
      "\n",
      "See the caveats in the documentation: http://pandas.pydata.org/pandas-docs/stable/indexing.html#indexing-view-versus-copy\n",
      "  \"\"\"Entry point for launching an IPython kernel.\n"
     ]
    }
   ],
   "source": [
    "df_sort.Exp_collection[:] = \"SUHash\""
   ]
  },
  {
   "cell_type": "code",
   "execution_count": 31,
   "metadata": {},
   "outputs": [],
   "source": [
    "!S:\\ExpSpecTable_Augment.xlsx"
   ]
  },
  {
   "cell_type": "code",
   "execution_count": 30,
   "metadata": {},
   "outputs": [
    {
     "name": "stderr",
     "output_type": "stream",
     "text": [
      "The process cannot access the file because it is being used by another process.\n"
     ]
    }
   ],
   "source": [
    "!S:\\Exp_Record_Alfa.xlsx"
   ]
  },
  {
   "cell_type": "markdown",
   "metadata": {},
   "source": [
    "## Matlab Data Processing"
   ]
  },
  {
   "cell_type": "code",
   "execution_count": 5,
   "metadata": {},
   "outputs": [
    {
     "name": "stdout",
     "output_type": "stream",
     "text": [
      "\n"
     ]
    }
   ],
   "source": [
    "format compact"
   ]
  },
  {
   "cell_type": "code",
   "execution_count": 1,
   "metadata": {
    "collapsed": true
   },
   "outputs": [
    {
     "name": "stdout",
     "output_type": "stream",
     "text": [
      "Drive already SUBSTed \n",
      "\n",
      "ans =\n",
      "\n",
      "     1\n",
      "\n",
      "\n"
     ]
    }
   ],
   "source": [
    "Set_Path;"
   ]
  },
  {
   "cell_type": "code",
   "execution_count": 4,
   "metadata": {},
   "outputs": [
    {
     "name": "stdout",
     "output_type": "stream",
     "text": [
      "\n"
     ]
    }
   ],
   "source": [
    "winopen(\"S:\\ExpSpecTable_Augment.xlsx\")"
   ]
  },
  {
   "cell_type": "code",
   "execution_count": 2,
   "metadata": {},
   "outputs": [
    {
     "name": "stdout",
     "output_type": "stream",
     "text": [
      "\n"
     ]
    }
   ],
   "source": [
    "open(\"Project_Manifold_Beto_loadRaw\")"
   ]
  },
  {
   "cell_type": "code",
   "execution_count": 3,
   "metadata": {},
   "outputs": [
    {
     "name": "stdout",
     "output_type": "stream",
     "text": [
      "\n"
     ]
    }
   ],
   "source": [
    "open(\"Evol_Optimizer_Cmp\")"
   ]
  },
  {
   "cell_type": "code",
   "execution_count": 5,
   "metadata": {},
   "outputs": [
    {
     "name": "stderr",
     "output_type": "stream",
     "text": [
      "\u001b[1;31m\n",
      "  File D:\\Poncelab_Github\\data-loading-code\\plxread_fullExperiment_vcrp.m, line 23, in plxread_fullExperiment_vcrp\n",
      "\n",
      "  File D:\\Poncelab_Github\\data-loading-code\\loadData.m, line 98, in loadData\n",
      "\n",
      "  File D:\\Github\\Monkey_Visual_Experiment_Data_Processing\\Project_Manifold_Beto_loadRaw.m, line 17, in Project_Manifold_Beto_loadRaw\n",
      "Unrecognized function or variable 'OpenedFileName'.\n",
      "\n",
      "\u001b[0m"
     ]
    },
    {
     "ename": "Error",
     "evalue": -1,
     "output_type": "error",
     "traceback": "\n  File D:\\Poncelab_Github\\data-loading-code\\plxread_fullExperiment_vcrp.m, line 23, in plxread_fullExperiment_vcrp\n\n  File D:\\Poncelab_Github\\data-loading-code\\loadData.m, line 98, in loadData\n\n  File D:\\Github\\Monkey_Visual_Experiment_Data_Processing\\Project_Manifold_Beto_loadRaw.m, line 17, in Project_Manifold_Beto_loadRaw\nUnrecognized function or variable 'OpenedFileName'.\n"
    }
   ],
   "source": [
    "expftr = contains(ExpSpecTable_Aug.expControlFN,\"200225\");\n",
    "% expftr = contains(ExpSpecTable_Aug.expControlFN,\"generate\") & ...\n",
    "%      contains(ExpSpecTable_Aug.Exp_collection, \"Optimizer_cmp\");\n",
    "%  ExpSpecTable_Aug.Expi<=5 & ExpSpecTable_Aug.Expi>=4 & ...\n",
    "[meta_new,rasters_new,lfps_new,Trials_new] = Project_Manifold_Beto_loadRaw(find(expftr)); "
   ]
  }
 ],
 "metadata": {
  "kernelspec": {
   "display_name": "Python [conda env:root] *",
   "language": "python",
   "name": "conda-root-py"
  },
  "language_info": {
   "codemirror_mode": {
    "name": "ipython",
    "version": 3
   },
   "file_extension": ".py",
   "mimetype": "text/x-python",
   "name": "python",
   "nbconvert_exporter": "python",
   "pygments_lexer": "ipython3",
   "version": "3.6.5"
  }
 },
 "nbformat": 4,
 "nbformat_minor": 2
}
