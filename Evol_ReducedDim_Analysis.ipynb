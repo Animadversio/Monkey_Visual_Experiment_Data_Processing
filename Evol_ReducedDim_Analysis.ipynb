{
 "cells": [
  {
   "cell_type": "markdown",
   "metadata": {},
   "source": [
    "## Exp Record Editting"
   ]
  },
  {
   "cell_type": "code",
   "execution_count": 35,
   "metadata": {},
   "outputs": [],
   "source": [
    "import pandas as pd\n",
    "import numpy as np\n",
    "df = pd.read_excel(r\"D:\\ExpRecord_tmp.xlsx\")\n",
    "df_formal = pd.read_excel(r\"S:\\ExpSpecTable_Augment.xlsx\")"
   ]
  },
  {
   "cell_type": "code",
   "execution_count": 36,
   "metadata": {
    "scrolled": true
   },
   "outputs": [],
   "source": [
    "def process_concat_cells(df, out_excel, animal):\n",
    "    if isinstance(df,str):\n",
    "        df = pd.read_excel(df)\n",
    "    df = df.dropna(axis=0, how='all') # drop lines full with nan\n",
    "    df = df.reset_index(drop=True)  # (index=range(df.shape[0]))  # make the index contiguous!\n",
    "    row_num = df.shape[0]\n",
    "    #%%\n",
    "    msk = ~ df.ephysFN.isna()  # 500 rows\n",
    "    # df.ephysFN[msk].str.contains(\"Alfa\")  # 436 rows containing Alfa\n",
    "    ExpEphysNames = df.ephysFN[df.ephysFN.str.contains(Animal)==True]\n",
    "    RowidEphs = ExpEphysNames.index\n",
    "    if Animal is \"Alfa\":\n",
    "        search_str = \"Alfa|ALfa\"\n",
    "    else:\n",
    "        search_str = \"Beto\"\n",
    "    ExpBhv2Names = df.expControlFN[df.expControlFN.str.contains(search_str)==True]\n",
    "    RowidBhv = ExpEphysNames.index\n",
    "    assert RowidEphs is RowidBhv\n",
    "    #%%\n",
    "    df.comments.fillna(value=\"\", inplace=True)\n",
    "    df.comments = df.comments.astype(\"str\")\n",
    "    df.stimuli.fillna(value=\"\", inplace=True)\n",
    "    df.stimuli = df.stimuli.astype(\"str\")\n",
    "    #%%\n",
    "    for Expi, rowi in enumerate(RowidEphs):\n",
    "        if Expi != len(RowidEphs) - 1:\n",
    "            nextrow = RowidEphs[Expi + 1]\n",
    "        else:\n",
    "            nextrow = row_num\n",
    "        print(\"\\nExp %d\\t %s\\t %s\"%( Expi, df.ephysFN[rowi], df.expControlFN[rowi]))\n",
    "        print(df.comments[rowi:nextrow].str.cat(sep=\"\\n\"))\n",
    "    #%%\n",
    "    stimuli_miss_cnt = 0\n",
    "    df_sort = df[df.ephysFN.str.contains(Animal)==True]\n",
    "    df_sort = df_sort.reset_index(drop=True)\n",
    "    for Expi, rowi in enumerate(RowidEphs):\n",
    "        if Expi != len(RowidEphs) - 1:\n",
    "            nextrow = RowidEphs[Expi + 1]\n",
    "        else:\n",
    "            nextrow = row_num\n",
    "        df_sort.comments[Expi] = df.comments[rowi:nextrow].str.cat(sep=\"\\n\")\n",
    "        df_sort.ephysFN[Expi] = df.ephysFN[rowi]\n",
    "        df_sort.expControlFN[Expi] = df.expControlFN[rowi]\n",
    "        if \"Stimuli\" in df.stimuli[rowi]:\n",
    "            df_sort.stimuli[Expi] = df.stimuli[rowi]\n",
    "        else:\n",
    "            df_sort.stimuli[Expi] = \"\"\n",
    "            stimuli_miss_cnt += 1\n",
    "            # print out info for further examination\n",
    "            print(\"\\nExp %d\\t %s\\t %s\" % (Expi, df.ephysFN[rowi], df.expControlFN[rowi]))\n",
    "            print(df.stimuli[rowi:nextrow].str.cat(sep=\"\"))\n",
    "            if (\"Abort\" in df_sort.comments[Expi]) or (\"abort\" in df_sort.comments[Expi]):\n",
    "                print(\"Do aborted! No worry.\")\n",
    "    print(stimuli_miss_cnt, \"stimuli missing\")\n",
    "    #%%\n",
    "    df_sort.to_excel(out_excel,index=False)\n",
    "    return df_sort"
   ]
  },
  {
   "cell_type": "code",
   "execution_count": 37,
   "metadata": {},
   "outputs": [
    {
     "data": {
      "text/plain": [
       "141"
      ]
     },
     "execution_count": 37,
     "metadata": {},
     "output_type": "execute_result"
    }
   ],
   "source": [
    "(df_formal.expControlFN==name).nonzero()[0][0]"
   ]
  },
  {
   "cell_type": "code",
   "execution_count": 37,
   "metadata": {},
   "outputs": [],
   "source": [
    "def concat_table(df_old, df_new, addexplabel=None, out_path=None):\n",
    "    if isinstance(df_old,str):\n",
    "        out_path = df_old\n",
    "        df_old = pd.read_excel(df_old)\n",
    "    if isinstance(df_new,str):\n",
    "        df_new = pd.read_excel(df_new)\n",
    "    # Check if the experiments in the new datatable has been recorded\n",
    "    break_flag = False\n",
    "    for name in df_sort.expControlFN:\n",
    "        if (df_old.expControlFN==name).any():\n",
    "            print(\"%s  has been recorded in the excel index %d, please check\"%(name, (df_old.expControlFN==name).nonzero()[0][0]))\n",
    "            break_flag = True\n",
    "    if break_flag:\n",
    "        raise ValueError\n",
    "    if addexplabel is not None:\n",
    "        df_new.Exp_collection[:] = addexplabel\n",
    "    df_cat = pd.concat([df_old,df_new], axis=0, ignore_index=True)\n",
    "    df_cat.to_excel(out_path,index=False)\n",
    "    return df_cat\n",
    "# pd.concat([df_formal,df_sort], axis=0, ignore_index=True)"
   ]
  },
  {
   "cell_type": "code",
   "execution_count": 38,
   "metadata": {
    "scrolled": true
   },
   "outputs": [
    {
     "name": "stdout",
     "output_type": "stream",
     "text": [
      "\n",
      "Exp 0\t Beto-11032020-001\t 200311_Beto_rfMapper_basic\n",
      "001 starts 12:49\n",
      "RFMapping  -8:2:8  2 deg,\n",
      "2cv\n",
      "Completed\n",
      "\n",
      "Exp 1\t Beto-11032020-002\t 200311_Beto_rfMapper_basic(1)\n",
      "002  starts\n",
      "6mins\n",
      "RFMapping  -1.5:.5:1.5 0.75 deg,\n",
      "Completed\n",
      "\n",
      "Exp 2\t Beto-11032020-003\t 200311_Beto_generate_integrated\n",
      "003 starts  13:16\n",
      "IT channel\n",
      "30 [-0.6 1] 3 1 CMAES\n",
      "30 [-0.6 1] 3 1 ZOHA_Sphere_lr\n",
      "30 is a Really Hashy unit\n",
      "See what happens\n",
      "Decrease the convergence rate, decay from 50 to 7.33 deg at 100 generations instead of 50 generations (Slower decay facilitate exploration ~ 40 gens. )\n",
      "ZOHA_Sphere is doing really well! Outperform CMAES early on.\n",
      "At about gen 25 the 2 evolution crossed and seems CMAES starts to get more spike esp. later sustained spikes. (probablu the norm is higher )\n",
      "At gen 30 the exploration is around 28.5 deg and the mean response is higher than ZOHA\n",
      "Sigma is 2.66, 2.33\n",
      "Exploration mu is 28\n",
      "Maybe we still decay too fast?\n",
      "Or we really needs a high norm to get the neuron interested.\n",
      "At generation 36,\n",
      "Sigma = 2.36\n",
      "Spherical Exploration range = 25.9 deg \n",
      "Spherical's step size is too small at this point, we are inferior\n",
      "Should use inverse function decay instead of exponential decay?\n",
      "Step 37\n",
      "Sigma 2.35\n",
      "Sphere degree 23.9\n",
      "ZOHA_Sphere_lr seems to be worse at after evolving for a while,\n",
      "Recorded the Matlab output! See we can reconstruct the sample diversity curve post hoc.\n",
      "Random thoughts:\n",
      "What's neuronal noise? How can that help or hinder evolution. Can we think about Hash as a weighted sum of a bunch of neurons with similar but different selectivity?\n",
      "45 gens for 58mins!\n",
      "Super Informative!\n",
      "Completed\n",
      "\n",
      "Exp 3\t Beto-11032020-004\t 200311_Beto_generate_integrated(1)\n",
      "004 starts  14:19\n",
      "30 [-0.6 1] 3 1 CMAES\n",
      "30 [-0.6 1] 3 1 ZOHA_Sphere_lr\n",
      "Exactly same as 003, but just change the decay rate of ZOHA_Sphere_lr to be linear instead of exponential, see slower decay will facilitate exploration at around 20-40 gens.\n",
      "However, neither CMA nor ZOHA evolves ~ 18 gens, not that informative.\n",
      "Actually the step size should be a function of evolving score! Not a function of generations. As many generations passed but score doesn't change much then you shouldn't tune your step size, you have to keep trying and moving.\n",
      "Completed, not very informative\n",
      "\n",
      "Exp 4\t Beto-11032020-005\t 200311_Beto_generate_integrated(2)\n",
      "005 starts 14:52\n",
      "20 [-0.6 1] 3 1 CMAES\n",
      "20 [-0.6 1] 3 1 ZOHA_Sphere_lr\n",
      "Linear decay from 50 to 7.33 in 100 generations, facilitates exploration.\n",
      "Finally try a unit with more signal. (PSTH looks super healthy! Low baseline high response.)\n",
      "(Eye signal lose again. Have to recalibrate from time to time. )\n",
      "In gen 8, gen 9 the scores of 2 optimizers goes up together. Quite correlated~ Seems promissing\n",
      "Add 100mL to finish this up.\n",
      "Around gen 12 CMA starts to look better than ZOHA, not sure why. Have to look deeper into both.\n",
      "Is that true that linear exploration is easier to memorize the evolved features than the Spherical one.\n",
      "Completed, quite informative\n"
     ]
    },
    {
     "name": "stderr",
     "output_type": "stream",
     "text": [
      "C:\\ProgramData\\Anaconda3\\lib\\site-packages\\ipykernel_launcher.py:41: SettingWithCopyWarning: \n",
      "A value is trying to be set on a copy of a slice from a DataFrame\n",
      "\n",
      "See the caveats in the documentation: http://pandas.pydata.org/pandas-docs/stable/indexing.html#indexing-view-versus-copy\n",
      "C:\\ProgramData\\Anaconda3\\lib\\site-packages\\ipykernel_launcher.py:42: SettingWithCopyWarning: \n",
      "A value is trying to be set on a copy of a slice from a DataFrame\n",
      "\n",
      "See the caveats in the documentation: http://pandas.pydata.org/pandas-docs/stable/indexing.html#indexing-view-versus-copy\n",
      "C:\\ProgramData\\Anaconda3\\lib\\site-packages\\ipykernel_launcher.py:43: SettingWithCopyWarning: \n",
      "A value is trying to be set on a copy of a slice from a DataFrame\n",
      "\n",
      "See the caveats in the documentation: http://pandas.pydata.org/pandas-docs/stable/indexing.html#indexing-view-versus-copy\n",
      "C:\\ProgramData\\Anaconda3\\lib\\site-packages\\ipykernel_launcher.py:45: SettingWithCopyWarning: \n",
      "A value is trying to be set on a copy of a slice from a DataFrame\n",
      "\n",
      "See the caveats in the documentation: http://pandas.pydata.org/pandas-docs/stable/indexing.html#indexing-view-versus-copy\n"
     ]
    },
    {
     "name": "stdout",
     "output_type": "stream",
     "text": [
      "0 stimuli missing\n"
     ]
    }
   ],
   "source": [
    "Animal = \"Beto\" # \"Alfa\" \"ALfa\"\n",
    "df_sort = process_concat_cells(r\"D:\\ExpRecord_tmp.xlsx\", \"D:\\ExpRecord_out.xlsx\", animal=Animal)"
   ]
  },
  {
   "cell_type": "code",
   "execution_count": 41,
   "metadata": {
    "scrolled": true
   },
   "outputs": [
    {
     "name": "stdout",
     "output_type": "stream",
     "text": [
      "200311_Beto_rfMapper_basic  has been recorded in the excel index 166, please check\n",
      "200311_Beto_rfMapper_basic(1)  has been recorded in the excel index 167, please check\n",
      "200311_Beto_generate_integrated  has been recorded in the excel index 168, please check\n",
      "200311_Beto_generate_integrated(1)  has been recorded in the excel index 169, please check\n",
      "200311_Beto_generate_integrated(2)  has been recorded in the excel index 170, please check\n"
     ]
    },
    {
     "ename": "ValueError",
     "evalue": "",
     "output_type": "error",
     "traceback": [
      "\u001b[1;31m---------------------------------------------------------------------------\u001b[0m",
      "\u001b[1;31mValueError\u001b[0m                                Traceback (most recent call last)",
      "\u001b[1;32m<ipython-input-41-5602390f05d5>\u001b[0m in \u001b[0;36m<module>\u001b[1;34m\u001b[0m\n\u001b[0;32m      3\u001b[0m \u001b[1;32melif\u001b[0m \u001b[0mAnimal\u001b[0m \u001b[1;33m==\u001b[0m \u001b[1;34m\"Alfa\"\u001b[0m\u001b[1;33m:\u001b[0m\u001b[1;33m\u001b[0m\u001b[0m\n\u001b[0;32m      4\u001b[0m     \u001b[0mtable_old\u001b[0m \u001b[1;33m=\u001b[0m \u001b[1;34mr\"S:\\Exp_Record_Alfa.xlsx\"\u001b[0m\u001b[1;33m\u001b[0m\u001b[0m\n\u001b[1;32m----> 5\u001b[1;33m \u001b[0mdf_cat\u001b[0m \u001b[1;33m=\u001b[0m \u001b[0mconcat_table\u001b[0m\u001b[1;33m(\u001b[0m\u001b[0mtable_old\u001b[0m\u001b[1;33m,\u001b[0m \u001b[1;34mr\"D:\\ExpRecord_out.xlsx\"\u001b[0m\u001b[1;33m,\u001b[0m \u001b[0maddexplabel\u001b[0m\u001b[1;33m=\u001b[0m\u001b[1;34m\"Optim_tuning\"\u001b[0m\u001b[1;33m)\u001b[0m\u001b[1;33m\u001b[0m\u001b[0m\n\u001b[0m",
      "\u001b[1;32m<ipython-input-37-cc6303ff077a>\u001b[0m in \u001b[0;36mconcat_table\u001b[1;34m(df_old, df_new, addexplabel, out_path)\u001b[0m\n\u001b[0;32m     12\u001b[0m             \u001b[0mbreak_flag\u001b[0m \u001b[1;33m=\u001b[0m \u001b[1;32mTrue\u001b[0m\u001b[1;33m\u001b[0m\u001b[0m\n\u001b[0;32m     13\u001b[0m     \u001b[1;32mif\u001b[0m \u001b[0mbreak_flag\u001b[0m\u001b[1;33m:\u001b[0m\u001b[1;33m\u001b[0m\u001b[0m\n\u001b[1;32m---> 14\u001b[1;33m         \u001b[1;32mraise\u001b[0m \u001b[0mValueError\u001b[0m\u001b[1;33m\u001b[0m\u001b[0m\n\u001b[0m\u001b[0;32m     15\u001b[0m     \u001b[1;32mif\u001b[0m \u001b[0maddexplabel\u001b[0m \u001b[1;32mis\u001b[0m \u001b[1;32mnot\u001b[0m \u001b[1;32mNone\u001b[0m\u001b[1;33m:\u001b[0m\u001b[1;33m\u001b[0m\u001b[0m\n\u001b[0;32m     16\u001b[0m         \u001b[0mdf_new\u001b[0m\u001b[1;33m.\u001b[0m\u001b[0mExp_collection\u001b[0m\u001b[1;33m[\u001b[0m\u001b[1;33m:\u001b[0m\u001b[1;33m]\u001b[0m \u001b[1;33m=\u001b[0m \u001b[0maddexplabel\u001b[0m\u001b[1;33m\u001b[0m\u001b[0m\n",
      "\u001b[1;31mValueError\u001b[0m: "
     ]
    }
   ],
   "source": [
    "if Animal == \"Beto\":\n",
    "    table_old = r\"S:\\ExpSpecTable_Augment.xlsx\"\n",
    "elif Animal == \"Alfa\":\n",
    "    table_old = r\"S:\\Exp_Record_Alfa.xlsx\"\n",
    "df_cat = concat_table(table_old, r\"D:\\ExpRecord_out.xlsx\", addexplabel=\"Optim_tuning\")"
   ]
  },
  {
   "cell_type": "code",
   "execution_count": 22,
   "metadata": {},
   "outputs": [
    {
     "name": "stderr",
     "output_type": "stream",
     "text": [
      "C:\\ProgramData\\Anaconda3\\lib\\site-packages\\ipykernel_launcher.py:1: SettingWithCopyWarning: \n",
      "A value is trying to be set on a copy of a slice from a DataFrame\n",
      "\n",
      "See the caveats in the documentation: http://pandas.pydata.org/pandas-docs/stable/indexing.html#indexing-view-versus-copy\n",
      "  \"\"\"Entry point for launching an IPython kernel.\n"
     ]
    }
   ],
   "source": [
    "df_sort.Exp_collection[:] = \"SUHash\""
   ]
  },
  {
   "cell_type": "code",
   "execution_count": 31,
   "metadata": {},
   "outputs": [],
   "source": [
    "!S:\\ExpSpecTable_Augment.xlsx"
   ]
  },
  {
   "cell_type": "code",
   "execution_count": 30,
   "metadata": {},
   "outputs": [
    {
     "name": "stderr",
     "output_type": "stream",
     "text": [
      "The process cannot access the file because it is being used by another process.\n"
     ]
    }
   ],
   "source": [
    "!S:\\Exp_Record_Alfa.xlsx"
   ]
  },
  {
   "cell_type": "markdown",
   "metadata": {},
   "source": [
    "## Matlab Data Processing"
   ]
  },
  {
   "cell_type": "code",
   "execution_count": 5,
   "metadata": {},
   "outputs": [
    {
     "name": "stdout",
     "output_type": "stream",
     "text": [
      "\n"
     ]
    }
   ],
   "source": [
    "format compact"
   ]
  },
  {
   "cell_type": "code",
   "execution_count": 1,
   "metadata": {
    "collapsed": true
   },
   "outputs": [
    {
     "name": "stdout",
     "output_type": "stream",
     "text": [
      "Drive already SUBSTed \n",
      "\n",
      "ans =\n",
      "\n",
      "     1\n",
      "\n",
      "\n"
     ]
    }
   ],
   "source": [
    "Set_Path;"
   ]
  },
  {
   "cell_type": "code",
   "execution_count": 4,
   "metadata": {},
   "outputs": [
    {
     "name": "stdout",
     "output_type": "stream",
     "text": [
      "\n"
     ]
    }
   ],
   "source": [
    "winopen(\"S:\\ExpSpecTable_Augment.xlsx\")"
   ]
  },
  {
   "cell_type": "code",
   "execution_count": 2,
   "metadata": {},
   "outputs": [
    {
     "name": "stdout",
     "output_type": "stream",
     "text": [
      "\n"
     ]
    }
   ],
   "source": [
    "open(\"Project_Manifold_Beto_loadRaw\")"
   ]
  },
  {
   "cell_type": "code",
   "execution_count": 3,
   "metadata": {},
   "outputs": [
    {
     "name": "stdout",
     "output_type": "stream",
     "text": [
      "\n"
     ]
    }
   ],
   "source": [
    "open(\"Evol_Optimizer_Cmp\")"
   ]
  },
  {
   "cell_type": "code",
   "execution_count": 5,
   "metadata": {},
   "outputs": [
    {
     "name": "stderr",
     "output_type": "stream",
     "text": [
      "\u001b[1;31m\n",
      "  File D:\\Poncelab_Github\\data-loading-code\\plxread_fullExperiment_vcrp.m, line 23, in plxread_fullExperiment_vcrp\n",
      "\n",
      "  File D:\\Poncelab_Github\\data-loading-code\\loadData.m, line 98, in loadData\n",
      "\n",
      "  File D:\\Github\\Monkey_Visual_Experiment_Data_Processing\\Project_Manifold_Beto_loadRaw.m, line 17, in Project_Manifold_Beto_loadRaw\n",
      "Unrecognized function or variable 'OpenedFileName'.\n",
      "\n",
      "\u001b[0m"
     ]
    },
    {
     "ename": "Error",
     "evalue": -1,
     "output_type": "error",
     "traceback": "\n  File D:\\Poncelab_Github\\data-loading-code\\plxread_fullExperiment_vcrp.m, line 23, in plxread_fullExperiment_vcrp\n\n  File D:\\Poncelab_Github\\data-loading-code\\loadData.m, line 98, in loadData\n\n  File D:\\Github\\Monkey_Visual_Experiment_Data_Processing\\Project_Manifold_Beto_loadRaw.m, line 17, in Project_Manifold_Beto_loadRaw\nUnrecognized function or variable 'OpenedFileName'.\n"
    }
   ],
   "source": [
    "expftr = contains(ExpSpecTable_Aug.expControlFN,\"200225\");\n",
    "% expftr = contains(ExpSpecTable_Aug.expControlFN,\"generate\") & ...\n",
    "%      contains(ExpSpecTable_Aug.Exp_collection, \"Optimizer_cmp\");\n",
    "%  ExpSpecTable_Aug.Expi<=5 & ExpSpecTable_Aug.Expi>=4 & ...\n",
    "[meta_new,rasters_new,lfps_new,Trials_new] = Project_Manifold_Beto_loadRaw(find(expftr)); "
   ]
  }
 ],
 "metadata": {
  "kernelspec": {
   "display_name": "Python [conda env:root] *",
   "language": "python",
   "name": "conda-root-py"
  },
  "language_info": {
   "codemirror_mode": {
    "name": "ipython",
    "version": 3
   },
   "file_extension": ".py",
   "mimetype": "text/x-python",
   "name": "python",
   "nbconvert_exporter": "python",
   "pygments_lexer": "ipython3",
   "version": "3.6.5"
  }
 },
 "nbformat": 4,
 "nbformat_minor": 2
}
