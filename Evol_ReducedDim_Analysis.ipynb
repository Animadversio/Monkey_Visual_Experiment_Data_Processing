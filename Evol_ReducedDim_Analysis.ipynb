{
 "cells": [
  {
   "cell_type": "markdown",
   "metadata": {},
   "source": [
    "## Exp Record Editting"
   ]
  },
  {
   "cell_type": "code",
   "execution_count": 1,
   "metadata": {},
   "outputs": [],
   "source": [
    "import pandas as pd\n",
    "import numpy as np\n",
    "df = pd.read_excel(r\"D:\\ExpRecord_tmp.xlsx\")\n",
    "df_formal = pd.read_excel(r\"S:\\ExpSpecTable_Augment.xlsx\")"
   ]
  },
  {
   "cell_type": "code",
   "execution_count": 24,
   "metadata": {
    "scrolled": true
   },
   "outputs": [],
   "source": [
    "def process_concat_cells(df, out_excel, animal):\n",
    "    if isinstance(df,str):\n",
    "        df = pd.read_excel(df)\n",
    "    df = df.dropna(axis=0, how='all') # drop lines full with nan\n",
    "    df = df.reset_index(drop=True)  # (index=range(df.shape[0]))  # make the index contiguous!\n",
    "    row_num = df.shape[0]\n",
    "    #%%\n",
    "    msk = ~ df.ephysFN.isna()  # 500 rows\n",
    "    # df.ephysFN[msk].str.contains(\"Alfa\")  # 436 rows containing Alfa\n",
    "    ExpEphysNames = df.ephysFN[df.ephysFN.str.contains(Animal)==True]\n",
    "    RowidEphs = ExpEphysNames.index\n",
    "    if Animal is \"Alfa\":\n",
    "        search_str = \"Alfa|ALfa\"\n",
    "    else:\n",
    "        search_str = \"Beto\"\n",
    "    ExpBhv2Names = df.expControlFN[df.expControlFN.str.contains(search_str)==True]\n",
    "    RowidBhv = ExpEphysNames.index\n",
    "    assert RowidEphs is RowidBhv\n",
    "    #%%\n",
    "    df.comments.fillna(value=\"\", inplace=True)\n",
    "    df.comments = df.comments.astype(\"str\")\n",
    "    df.stimuli.fillna(value=\"\", inplace=True)\n",
    "    df.stimuli = df.stimuli.astype(\"str\")\n",
    "    #%%\n",
    "    for Expi, rowi in enumerate(RowidEphs):\n",
    "        if Expi != len(RowidEphs) - 1:\n",
    "            nextrow = RowidEphs[Expi + 1]\n",
    "        else:\n",
    "            nextrow = row_num\n",
    "        print(\"\\nExp %d\\t %s\\t %s\"%( Expi, df.ephysFN[rowi], df.expControlFN[rowi]))\n",
    "        print(df.comments[rowi:nextrow].str.cat(sep=\"\\n\"))\n",
    "    #%%\n",
    "    stimuli_miss_cnt = 0\n",
    "    df_sort = df[df.ephysFN.str.contains(Animal)==True]\n",
    "    df_sort = df_sort.reset_index(drop=True)\n",
    "    for Expi, rowi in enumerate(RowidEphs):\n",
    "        if Expi != len(RowidEphs) - 1:\n",
    "            nextrow = RowidEphs[Expi + 1]\n",
    "        else:\n",
    "            nextrow = row_num\n",
    "        df_sort.comments[Expi] = df.comments[rowi:nextrow].str.cat(sep=\"\\n\")\n",
    "        df_sort.ephysFN[Expi] = df.ephysFN[rowi]\n",
    "        df_sort.expControlFN[Expi] = df.expControlFN[rowi]\n",
    "        if \"Stimuli\" in df.stimuli[rowi]:\n",
    "            df_sort.stimuli[Expi] = df.stimuli[rowi]\n",
    "        else:\n",
    "            df_sort.stimuli[Expi] = \"\"\n",
    "            stimuli_miss_cnt += 1\n",
    "            # print out info for further examination\n",
    "            print(\"\\nExp %d\\t %s\\t %s\" % (Expi, df.ephysFN[rowi], df.expControlFN[rowi]))\n",
    "            print(df.stimuli[rowi:nextrow].str.cat(sep=\"\"))\n",
    "            if (\"Abort\" in df_sort.comments[Expi]) or (\"abort\" in df_sort.comments[Expi]):\n",
    "                print(\"Do aborted! No worry.\")\n",
    "    print(stimuli_miss_cnt, \"stimuli missing\")\n",
    "    #%%\n",
    "    df_sort.to_excel(out_excel,index=False)\n",
    "    return df_sort"
   ]
  },
  {
   "cell_type": "code",
   "execution_count": null,
   "metadata": {},
   "outputs": [],
   "source": [
    "def concat_tabel(df_old, df_new):\n",
    "    "
   ]
  },
  {
   "cell_type": "code",
   "execution_count": 25,
   "metadata": {
    "scrolled": true
   },
   "outputs": [
    {
     "name": "stdout",
     "output_type": "stream",
     "text": [
      "\n",
      "Exp 0\t Beto-25022020-001\t 200225_Beto_rfMapper_basic\n",
      "001 RF Mapping starts 12:12\n",
      "chan 40 seems to have a well defined RF\n",
      "-1.5:0.5:1.5  0.75 deg\n",
      "\n",
      "Exp 1\t Beto-25022020-002\t 200225_Beto_rfMapper_basic(1)\n",
      "002 RF Mapping starts 12:20\n",
      "-8:2:8 2 deg 10 min\n",
      "Good Foveal\n",
      "\n",
      "Exp 2\t Beto-25022020-003\t 200225_Beto_generate_integrated(1)\n",
      "003 generate_integrated\n",
      "Reduced Dimension .\n",
      "40 [0 -0.3] 3 1 CMAES_RD\n",
      "40 [0 -0.3] 3 1 CMAES\n",
      " Terminate 20 blocks\n",
      "complete, stop at 12:55\n",
      "\n",
      "Exp 3\t Beto-25022020-004\t 200225_Beto_generate_integrated(2)\n",
      "004 generate_integrated\n",
      "43 [0 -0.3] 3 1 CMAES_RD\n",
      "43 [0 -0.3] 3 1 CMAES\n",
      "Start at 12:57\n",
      "No eye tracking on screen, -_- but he is locked in, working good, I trust it.\n",
      "We will take to 20 blocks ish\n",
      "Stopped at 1:17\n",
      "\n",
      "Exp 4\t Beto-25022020-005\t 200225_Beto_generate_integrated(3)\n",
      "005 generate_integrated\n",
      "Reduced Dimension .\n",
      "44 [0 -0.3] 3 1 CMAES_RD\n",
      "44 [0 -0.3] 3 1 CMAES\n",
      " Terminate 20 blocks\n",
      "stopped at 1:40\n",
      "\n",
      "Exp 5\t Beto-25022020-006\t 200225_Beto_generate_integrated(4)\n",
      "006 generated_integrated 1:40\n",
      "40 [0 -0.3] 3 1 CMAES_RD\n",
      "40 [0 -0.3] 3 1 CMAES\n",
      " Terminate 20 blocks\n",
      "trying this ch. again\n",
      "monkey starting to shake, may not go too much longer\n",
      "Stopped at 20 blocks, 2:10\n"
     ]
    },
    {
     "name": "stderr",
     "output_type": "stream",
     "text": [
      "C:\\ProgramData\\Anaconda3\\lib\\site-packages\\ipykernel_launcher.py:42: SettingWithCopyWarning: \n",
      "A value is trying to be set on a copy of a slice from a DataFrame\n",
      "\n",
      "See the caveats in the documentation: http://pandas.pydata.org/pandas-docs/stable/indexing.html#indexing-view-versus-copy\n",
      "C:\\ProgramData\\Anaconda3\\lib\\site-packages\\ipykernel_launcher.py:43: SettingWithCopyWarning: \n",
      "A value is trying to be set on a copy of a slice from a DataFrame\n",
      "\n",
      "See the caveats in the documentation: http://pandas.pydata.org/pandas-docs/stable/indexing.html#indexing-view-versus-copy\n",
      "C:\\ProgramData\\Anaconda3\\lib\\site-packages\\ipykernel_launcher.py:44: SettingWithCopyWarning: \n",
      "A value is trying to be set on a copy of a slice from a DataFrame\n",
      "\n",
      "See the caveats in the documentation: http://pandas.pydata.org/pandas-docs/stable/indexing.html#indexing-view-versus-copy\n",
      "C:\\ProgramData\\Anaconda3\\lib\\site-packages\\ipykernel_launcher.py:46: SettingWithCopyWarning: \n",
      "A value is trying to be set on a copy of a slice from a DataFrame\n",
      "\n",
      "See the caveats in the documentation: http://pandas.pydata.org/pandas-docs/stable/indexing.html#indexing-view-versus-copy\n"
     ]
    },
    {
     "name": "stdout",
     "output_type": "stream",
     "text": [
      "0 stimuli missing\n"
     ]
    },
    {
     "data": {
      "text/html": [
       "<div>\n",
       "<style scoped>\n",
       "    .dataframe tbody tr th:only-of-type {\n",
       "        vertical-align: middle;\n",
       "    }\n",
       "\n",
       "    .dataframe tbody tr th {\n",
       "        vertical-align: top;\n",
       "    }\n",
       "\n",
       "    .dataframe thead th {\n",
       "        text-align: right;\n",
       "    }\n",
       "</style>\n",
       "<table border=\"1\" class=\"dataframe\">\n",
       "  <thead>\n",
       "    <tr style=\"text-align: right;\">\n",
       "      <th></th>\n",
       "      <th>ephysFN</th>\n",
       "      <th>expControlFN</th>\n",
       "      <th>stimuli</th>\n",
       "      <th>comments</th>\n",
       "      <th>Exp_collection</th>\n",
       "      <th>Expi</th>\n",
       "      <th>pref_chan</th>\n",
       "      <th>stim_size</th>\n",
       "    </tr>\n",
       "  </thead>\n",
       "  <tbody>\n",
       "    <tr>\n",
       "      <th>0</th>\n",
       "      <td>Beto-25022020-001</td>\n",
       "      <td>200225_Beto_rfMapper_basic</td>\n",
       "      <td>N:\\Stimuli\\2019-06-RF-mapping\\2020-02-25-Beto</td>\n",
       "      <td>001 RF Mapping starts 12:12\\nchan 40 seems to ...</td>\n",
       "      <td>NaN</td>\n",
       "      <td>NaN</td>\n",
       "      <td>NaN</td>\n",
       "      <td>NaN</td>\n",
       "    </tr>\n",
       "    <tr>\n",
       "      <th>1</th>\n",
       "      <td>Beto-25022020-002</td>\n",
       "      <td>200225_Beto_rfMapper_basic(1)</td>\n",
       "      <td>N:\\Stimuli\\2019-06-RF-mapping\\2020-02-25-Beto</td>\n",
       "      <td>002 RF Mapping starts 12:20\\n-8:2:8 2 deg 10 m...</td>\n",
       "      <td>NaN</td>\n",
       "      <td>NaN</td>\n",
       "      <td>NaN</td>\n",
       "      <td>NaN</td>\n",
       "    </tr>\n",
       "    <tr>\n",
       "      <th>2</th>\n",
       "      <td>Beto-25022020-003</td>\n",
       "      <td>200225_Beto_generate_integrated(1)</td>\n",
       "      <td>N:\\Stimuli\\2019-12-Evolutions\\2020-02-25-Beto-...</td>\n",
       "      <td>003 generate_integrated\\nReduced Dimension .\\n...</td>\n",
       "      <td>NaN</td>\n",
       "      <td>NaN</td>\n",
       "      <td>NaN</td>\n",
       "      <td>NaN</td>\n",
       "    </tr>\n",
       "    <tr>\n",
       "      <th>3</th>\n",
       "      <td>Beto-25022020-004</td>\n",
       "      <td>200225_Beto_generate_integrated(2)</td>\n",
       "      <td>N:\\Stimuli\\2019-12-Evolutions\\2020-02-25-Beto-...</td>\n",
       "      <td>004 generate_integrated\\n43 [0 -0.3] 3 1 CMAES...</td>\n",
       "      <td>NaN</td>\n",
       "      <td>NaN</td>\n",
       "      <td>NaN</td>\n",
       "      <td>NaN</td>\n",
       "    </tr>\n",
       "    <tr>\n",
       "      <th>4</th>\n",
       "      <td>Beto-25022020-005</td>\n",
       "      <td>200225_Beto_generate_integrated(3)</td>\n",
       "      <td>N:\\Stimuli\\2019-12-Evolutions\\2020-02-25-Beto-...</td>\n",
       "      <td>005 generate_integrated\\nReduced Dimension .\\n...</td>\n",
       "      <td>NaN</td>\n",
       "      <td>NaN</td>\n",
       "      <td>NaN</td>\n",
       "      <td>NaN</td>\n",
       "    </tr>\n",
       "    <tr>\n",
       "      <th>5</th>\n",
       "      <td>Beto-25022020-006</td>\n",
       "      <td>200225_Beto_generate_integrated(4)</td>\n",
       "      <td>N:\\Stimuli\\2019-12-Evolutions\\2020-02-25-Beto-...</td>\n",
       "      <td>006 generated_integrated 1:40\\n40 [0 -0.3] 3 1...</td>\n",
       "      <td>NaN</td>\n",
       "      <td>NaN</td>\n",
       "      <td>NaN</td>\n",
       "      <td>NaN</td>\n",
       "    </tr>\n",
       "  </tbody>\n",
       "</table>\n",
       "</div>"
      ],
      "text/plain": [
       "             ephysFN                        expControlFN  \\\n",
       "0  Beto-25022020-001          200225_Beto_rfMapper_basic   \n",
       "1  Beto-25022020-002       200225_Beto_rfMapper_basic(1)   \n",
       "2  Beto-25022020-003  200225_Beto_generate_integrated(1)   \n",
       "3  Beto-25022020-004  200225_Beto_generate_integrated(2)   \n",
       "4  Beto-25022020-005  200225_Beto_generate_integrated(3)   \n",
       "5  Beto-25022020-006  200225_Beto_generate_integrated(4)   \n",
       "\n",
       "                                             stimuli  \\\n",
       "0      N:\\Stimuli\\2019-06-RF-mapping\\2020-02-25-Beto   \n",
       "1      N:\\Stimuli\\2019-06-RF-mapping\\2020-02-25-Beto   \n",
       "2  N:\\Stimuli\\2019-12-Evolutions\\2020-02-25-Beto-...   \n",
       "3  N:\\Stimuli\\2019-12-Evolutions\\2020-02-25-Beto-...   \n",
       "4  N:\\Stimuli\\2019-12-Evolutions\\2020-02-25-Beto-...   \n",
       "5  N:\\Stimuli\\2019-12-Evolutions\\2020-02-25-Beto-...   \n",
       "\n",
       "                                            comments  Exp_collection  Expi  \\\n",
       "0  001 RF Mapping starts 12:12\\nchan 40 seems to ...             NaN   NaN   \n",
       "1  002 RF Mapping starts 12:20\\n-8:2:8 2 deg 10 m...             NaN   NaN   \n",
       "2  003 generate_integrated\\nReduced Dimension .\\n...             NaN   NaN   \n",
       "3  004 generate_integrated\\n43 [0 -0.3] 3 1 CMAES...             NaN   NaN   \n",
       "4  005 generate_integrated\\nReduced Dimension .\\n...             NaN   NaN   \n",
       "5  006 generated_integrated 1:40\\n40 [0 -0.3] 3 1...             NaN   NaN   \n",
       "\n",
       "   pref_chan  stim_size  \n",
       "0        NaN        NaN  \n",
       "1        NaN        NaN  \n",
       "2        NaN        NaN  \n",
       "3        NaN        NaN  \n",
       "4        NaN        NaN  \n",
       "5        NaN        NaN  "
      ]
     },
     "execution_count": 25,
     "metadata": {},
     "output_type": "execute_result"
    }
   ],
   "source": [
    "Animal = \"Beto\" # \"Alfa\" \"ALfa\"\n",
    "process_concat_cells(r\"D:\\ExpRecord_tmp.xlsx\", \"D:\\ExpRecord_out.xlsx\", animal=\"Beto\")"
   ]
  },
  {
   "cell_type": "code",
   "execution_count": 17,
   "metadata": {
    "scrolled": true
   },
   "outputs": [
    {
     "data": {
      "text/html": [
       "<div>\n",
       "<style scoped>\n",
       "    .dataframe tbody tr th:only-of-type {\n",
       "        vertical-align: middle;\n",
       "    }\n",
       "\n",
       "    .dataframe tbody tr th {\n",
       "        vertical-align: top;\n",
       "    }\n",
       "\n",
       "    .dataframe thead th {\n",
       "        text-align: right;\n",
       "    }\n",
       "</style>\n",
       "<table border=\"1\" class=\"dataframe\">\n",
       "  <thead>\n",
       "    <tr style=\"text-align: right;\">\n",
       "      <th></th>\n",
       "      <th>ephysFN</th>\n",
       "      <th>expControlFN</th>\n",
       "      <th>stimuli</th>\n",
       "      <th>comments</th>\n",
       "      <th>Exp_collection</th>\n",
       "      <th>Expi</th>\n",
       "      <th>pref_chan</th>\n",
       "      <th>stim_size</th>\n",
       "    </tr>\n",
       "  </thead>\n",
       "  <tbody>\n",
       "    <tr>\n",
       "      <th>0</th>\n",
       "      <td>Beto-25022020-001</td>\n",
       "      <td>200225_Beto_rfMapper_basic</td>\n",
       "      <td>N:\\Stimuli\\2019-06-RF-mapping\\2020-02-25-Beto</td>\n",
       "      <td>001 RF Mapping starts 12:12\\nchan 40 seems to ...</td>\n",
       "      <td>NaN</td>\n",
       "      <td>NaN</td>\n",
       "      <td>NaN</td>\n",
       "      <td>NaN</td>\n",
       "    </tr>\n",
       "    <tr>\n",
       "      <th>1</th>\n",
       "      <td>Beto-25022020-002</td>\n",
       "      <td>200225_Beto_rfMapper_basic(1)</td>\n",
       "      <td>N:\\Stimuli\\2019-06-RF-mapping\\2020-02-25-Beto</td>\n",
       "      <td>002 RF Mapping starts 12:20\\n-8:2:8 2 deg 10 m...</td>\n",
       "      <td>NaN</td>\n",
       "      <td>NaN</td>\n",
       "      <td>NaN</td>\n",
       "      <td>NaN</td>\n",
       "    </tr>\n",
       "    <tr>\n",
       "      <th>2</th>\n",
       "      <td>Beto-25022020-003</td>\n",
       "      <td>200225_Beto_generate_integrated(1)</td>\n",
       "      <td>N:\\Stimuli\\2019-12-Evolutions\\2020-02-25-Beto-...</td>\n",
       "      <td>003 generate_integrated\\nReduced Dimension .\\n...</td>\n",
       "      <td>NaN</td>\n",
       "      <td>NaN</td>\n",
       "      <td>NaN</td>\n",
       "      <td>NaN</td>\n",
       "    </tr>\n",
       "    <tr>\n",
       "      <th>3</th>\n",
       "      <td>Beto-25022020-004</td>\n",
       "      <td>200225_Beto_generate_integrated(2)</td>\n",
       "      <td>N:\\Stimuli\\2019-12-Evolutions\\2020-02-25-Beto-...</td>\n",
       "      <td>004 generate_integrated\\n43 [0 -0.3] 3 1 CMAES...</td>\n",
       "      <td>NaN</td>\n",
       "      <td>NaN</td>\n",
       "      <td>NaN</td>\n",
       "      <td>NaN</td>\n",
       "    </tr>\n",
       "    <tr>\n",
       "      <th>4</th>\n",
       "      <td>Beto-25022020-005</td>\n",
       "      <td>200225_Beto_generate_integrated(3)</td>\n",
       "      <td>N:\\Stimuli\\2019-12-Evolutions\\2020-02-25-Beto-...</td>\n",
       "      <td>005 generate_integrated\\nReduced Dimension .\\n...</td>\n",
       "      <td>NaN</td>\n",
       "      <td>NaN</td>\n",
       "      <td>NaN</td>\n",
       "      <td>NaN</td>\n",
       "    </tr>\n",
       "    <tr>\n",
       "      <th>5</th>\n",
       "      <td>Beto-25022020-006</td>\n",
       "      <td>200225_Beto_generate_integrated(4)</td>\n",
       "      <td>N:\\Stimuli\\2019-12-Evolutions\\2020-02-25-Beto-...</td>\n",
       "      <td>006 generated_integrated 1:40\\n40 [0 -0.3] 3 1...</td>\n",
       "      <td>NaN</td>\n",
       "      <td>NaN</td>\n",
       "      <td>NaN</td>\n",
       "      <td>NaN</td>\n",
       "    </tr>\n",
       "  </tbody>\n",
       "</table>\n",
       "</div>"
      ],
      "text/plain": [
       "             ephysFN                        expControlFN  \\\n",
       "0  Beto-25022020-001          200225_Beto_rfMapper_basic   \n",
       "1  Beto-25022020-002       200225_Beto_rfMapper_basic(1)   \n",
       "2  Beto-25022020-003  200225_Beto_generate_integrated(1)   \n",
       "3  Beto-25022020-004  200225_Beto_generate_integrated(2)   \n",
       "4  Beto-25022020-005  200225_Beto_generate_integrated(3)   \n",
       "5  Beto-25022020-006  200225_Beto_generate_integrated(4)   \n",
       "\n",
       "                                             stimuli  \\\n",
       "0      N:\\Stimuli\\2019-06-RF-mapping\\2020-02-25-Beto   \n",
       "1      N:\\Stimuli\\2019-06-RF-mapping\\2020-02-25-Beto   \n",
       "2  N:\\Stimuli\\2019-12-Evolutions\\2020-02-25-Beto-...   \n",
       "3  N:\\Stimuli\\2019-12-Evolutions\\2020-02-25-Beto-...   \n",
       "4  N:\\Stimuli\\2019-12-Evolutions\\2020-02-25-Beto-...   \n",
       "5  N:\\Stimuli\\2019-12-Evolutions\\2020-02-25-Beto-...   \n",
       "\n",
       "                                            comments  Exp_collection  Expi  \\\n",
       "0  001 RF Mapping starts 12:12\\nchan 40 seems to ...             NaN   NaN   \n",
       "1  002 RF Mapping starts 12:20\\n-8:2:8 2 deg 10 m...             NaN   NaN   \n",
       "2  003 generate_integrated\\nReduced Dimension .\\n...             NaN   NaN   \n",
       "3  004 generate_integrated\\n43 [0 -0.3] 3 1 CMAES...             NaN   NaN   \n",
       "4  005 generate_integrated\\nReduced Dimension .\\n...             NaN   NaN   \n",
       "5  006 generated_integrated 1:40\\n40 [0 -0.3] 3 1...             NaN   NaN   \n",
       "\n",
       "   pref_chan  stim_size  \n",
       "0        NaN        NaN  \n",
       "1        NaN        NaN  \n",
       "2        NaN        NaN  \n",
       "3        NaN        NaN  \n",
       "4        NaN        NaN  \n",
       "5        NaN        NaN  "
      ]
     },
     "execution_count": 17,
     "metadata": {},
     "output_type": "execute_result"
    }
   ],
   "source": [
    "df_sort"
   ]
  },
  {
   "cell_type": "markdown",
   "metadata": {},
   "source": [
    "## Matlab Data Processing"
   ]
  },
  {
   "cell_type": "code",
   "execution_count": 5,
   "metadata": {},
   "outputs": [
    {
     "name": "stdout",
     "output_type": "stream",
     "text": [
      "\n"
     ]
    }
   ],
   "source": [
    "format compact"
   ]
  },
  {
   "cell_type": "code",
   "execution_count": 1,
   "metadata": {
    "collapsed": true
   },
   "outputs": [
    {
     "name": "stdout",
     "output_type": "stream",
     "text": [
      "Drive already SUBSTed \n",
      "\n",
      "ans =\n",
      "\n",
      "     1\n",
      "\n",
      "\n"
     ]
    }
   ],
   "source": [
    "Set_Path;"
   ]
  },
  {
   "cell_type": "code",
   "execution_count": 4,
   "metadata": {},
   "outputs": [
    {
     "name": "stdout",
     "output_type": "stream",
     "text": [
      "\n"
     ]
    }
   ],
   "source": [
    "winopen(\"S:\\ExpSpecTable_Augment.xlsx\")"
   ]
  },
  {
   "cell_type": "code",
   "execution_count": 2,
   "metadata": {},
   "outputs": [
    {
     "name": "stdout",
     "output_type": "stream",
     "text": [
      "\n"
     ]
    }
   ],
   "source": [
    "open(\"Project_Manifold_Beto_loadRaw\")"
   ]
  },
  {
   "cell_type": "code",
   "execution_count": 3,
   "metadata": {},
   "outputs": [
    {
     "name": "stdout",
     "output_type": "stream",
     "text": [
      "\n"
     ]
    }
   ],
   "source": [
    "open(\"Evol_Optimizer_Cmp\")"
   ]
  },
  {
   "cell_type": "code",
   "execution_count": 5,
   "metadata": {},
   "outputs": [
    {
     "name": "stderr",
     "output_type": "stream",
     "text": [
      "\u001b[1;31m\n",
      "  File D:\\Poncelab_Github\\data-loading-code\\plxread_fullExperiment_vcrp.m, line 23, in plxread_fullExperiment_vcrp\n",
      "\n",
      "  File D:\\Poncelab_Github\\data-loading-code\\loadData.m, line 98, in loadData\n",
      "\n",
      "  File D:\\Github\\Monkey_Visual_Experiment_Data_Processing\\Project_Manifold_Beto_loadRaw.m, line 17, in Project_Manifold_Beto_loadRaw\n",
      "Unrecognized function or variable 'OpenedFileName'.\n",
      "\n",
      "\u001b[0m"
     ]
    },
    {
     "ename": "Error",
     "evalue": -1,
     "output_type": "error",
     "traceback": "\n  File D:\\Poncelab_Github\\data-loading-code\\plxread_fullExperiment_vcrp.m, line 23, in plxread_fullExperiment_vcrp\n\n  File D:\\Poncelab_Github\\data-loading-code\\loadData.m, line 98, in loadData\n\n  File D:\\Github\\Monkey_Visual_Experiment_Data_Processing\\Project_Manifold_Beto_loadRaw.m, line 17, in Project_Manifold_Beto_loadRaw\nUnrecognized function or variable 'OpenedFileName'.\n"
    }
   ],
   "source": [
    "expftr = contains(ExpSpecTable_Aug.expControlFN,\"200225\");\n",
    "% expftr = contains(ExpSpecTable_Aug.expControlFN,\"generate\") & ...\n",
    "%      contains(ExpSpecTable_Aug.Exp_collection, \"Optimizer_cmp\");\n",
    "%  ExpSpecTable_Aug.Expi<=5 & ExpSpecTable_Aug.Expi>=4 & ...\n",
    "[meta_new,rasters_new,lfps_new,Trials_new] = Project_Manifold_Beto_loadRaw(find(expftr)); "
   ]
  },
  {
   "cell_type": "code",
   "execution_count": null,
   "metadata": {},
   "outputs": [],
   "source": []
  }
 ],
 "metadata": {
  "kernelspec": {
   "display_name": "Matlab",
   "language": "matlab",
   "name": "matlab"
  },
  "language_info": {
   "codemirror_mode": "octave",
   "file_extension": ".m",
   "help_links": [
    {
     "text": "MetaKernel Magics",
     "url": "https://metakernel.readthedocs.io/en/latest/source/README.html"
    }
   ],
   "mimetype": "text/x-octave",
   "name": "matlab",
   "version": "0.16.7"
  }
 },
 "nbformat": 4,
 "nbformat_minor": 2
}
