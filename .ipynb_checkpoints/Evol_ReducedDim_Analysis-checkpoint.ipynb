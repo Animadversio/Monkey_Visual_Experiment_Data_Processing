{
 "cells": [
  {
   "cell_type": "markdown",
   "metadata": {},
   "source": [
    "## Exp Record Editting"
   ]
  },
  {
   "cell_type": "code",
   "execution_count": 35,
   "metadata": {},
   "outputs": [],
   "source": [
    "import pandas as pd\n",
    "import numpy as np\n",
    "df = pd.read_excel(r\"D:\\ExpRecord_tmp.xlsx\")\n",
    "df_formal = pd.read_excel(r\"S:\\ExpSpecTable_Augment.xlsx\")"
   ]
  },
  {
   "cell_type": "code",
   "execution_count": 36,
   "metadata": {
    "scrolled": true
   },
   "outputs": [],
   "source": [
    "def process_concat_cells(df, out_excel, animal):\n",
    "    if isinstance(df,str):\n",
    "        df = pd.read_excel(df)\n",
    "    df = df.dropna(axis=0, how='all') # drop lines full with nan\n",
    "    df = df.reset_index(drop=True)  # (index=range(df.shape[0]))  # make the index contiguous!\n",
    "    row_num = df.shape[0]\n",
    "    #%%\n",
    "    msk = ~ df.ephysFN.isna()  # 500 rows\n",
    "    # df.ephysFN[msk].str.contains(\"Alfa\")  # 436 rows containing Alfa\n",
    "    ExpEphysNames = df.ephysFN[df.ephysFN.str.contains(Animal)==True]\n",
    "    RowidEphs = ExpEphysNames.index\n",
    "    if Animal is \"Alfa\":\n",
    "        search_str = \"Alfa|ALfa\"\n",
    "    else:\n",
    "        search_str = \"Beto\"\n",
    "    ExpBhv2Names = df.expControlFN[df.expControlFN.str.contains(search_str)==True]\n",
    "    RowidBhv = ExpEphysNames.index\n",
    "    assert RowidEphs is RowidBhv\n",
    "    #%%\n",
    "    df.comments.fillna(value=\"\", inplace=True)\n",
    "    df.comments = df.comments.astype(\"str\")\n",
    "    df.stimuli.fillna(value=\"\", inplace=True)\n",
    "    df.stimuli = df.stimuli.astype(\"str\")\n",
    "    #%%\n",
    "    for Expi, rowi in enumerate(RowidEphs):\n",
    "        if Expi != len(RowidEphs) - 1:\n",
    "            nextrow = RowidEphs[Expi + 1]\n",
    "        else:\n",
    "            nextrow = row_num\n",
    "        print(\"\\nExp %d\\t %s\\t %s\"%( Expi, df.ephysFN[rowi], df.expControlFN[rowi]))\n",
    "        print(df.comments[rowi:nextrow].str.cat(sep=\"\\n\"))\n",
    "    #%%\n",
    "    stimuli_miss_cnt = 0\n",
    "    df_sort = df[df.ephysFN.str.contains(Animal)==True]\n",
    "    df_sort = df_sort.reset_index(drop=True)\n",
    "    for Expi, rowi in enumerate(RowidEphs):\n",
    "        if Expi != len(RowidEphs) - 1:\n",
    "            nextrow = RowidEphs[Expi + 1]\n",
    "        else:\n",
    "            nextrow = row_num\n",
    "        df_sort.comments[Expi] = df.comments[rowi:nextrow].str.cat(sep=\"\\n\")\n",
    "        df_sort.ephysFN[Expi] = df.ephysFN[rowi]\n",
    "        df_sort.expControlFN[Expi] = df.expControlFN[rowi]\n",
    "        if \"Stimuli\" in df.stimuli[rowi]:\n",
    "            df_sort.stimuli[Expi] = df.stimuli[rowi]\n",
    "        else:\n",
    "            df_sort.stimuli[Expi] = \"\"\n",
    "            stimuli_miss_cnt += 1\n",
    "            # print out info for further examination\n",
    "            print(\"\\nExp %d\\t %s\\t %s\" % (Expi, df.ephysFN[rowi], df.expControlFN[rowi]))\n",
    "            print(df.stimuli[rowi:nextrow].str.cat(sep=\"\"))\n",
    "            if (\"Abort\" in df_sort.comments[Expi]) or (\"abort\" in df_sort.comments[Expi]):\n",
    "                print(\"Do aborted! No worry.\")\n",
    "    print(stimuli_miss_cnt, \"stimuli missing\")\n",
    "    #%%\n",
    "    df_sort.to_excel(out_excel,index=False)\n",
    "    return df_sort"
   ]
  },
  {
   "cell_type": "code",
   "execution_count": 37,
   "metadata": {},
   "outputs": [
    {
     "data": {
      "text/plain": [
       "141"
      ]
     },
     "execution_count": 37,
     "metadata": {},
     "output_type": "execute_result"
    }
   ],
   "source": [
    "(df_formal.expControlFN==name).nonzero()[0][0]"
   ]
  },
  {
   "cell_type": "code",
   "execution_count": 37,
   "metadata": {},
   "outputs": [],
   "source": [
    "def concat_table(df_old, df_new, addexplabel=None, out_path=None):\n",
    "    if isinstance(df_old,str):\n",
    "        out_path = df_old\n",
    "        df_old = pd.read_excel(df_old)\n",
    "    if isinstance(df_new,str):\n",
    "        df_new = pd.read_excel(df_new)\n",
    "    # Check if the experiments in the new datatable has been recorded\n",
    "    break_flag = False\n",
    "    for name in df_sort.expControlFN:\n",
    "        if (df_old.expControlFN==name).any():\n",
    "            print(\"%s  has been recorded in the excel index %d, please check\"%(name, (df_old.expControlFN==name).nonzero()[0][0]))\n",
    "            break_flag = True\n",
    "    if break_flag:\n",
    "        raise ValueError\n",
    "    if addexplabel is not None:\n",
    "        df_new.Exp_collection[:] = addexplabel\n",
    "    df_cat = pd.concat([df_old,df_new], axis=0, ignore_index=True)\n",
    "    df_cat.to_excel(out_path,index=False)\n",
    "    return df_cat\n",
    "# pd.concat([df_formal,df_sort], axis=0, ignore_index=True)"
   ]
  },
  {
   "cell_type": "code",
   "execution_count": 32,
   "metadata": {
    "scrolled": true
   },
   "outputs": [
    {
     "name": "stdout",
     "output_type": "stream",
     "text": [
      "\n",
      "Exp 0\t Alfa64chan-10032020-001\t 200310_Alfa_rfMapper_basic\n",
      "001 RF Mapping\n",
      "[0 0 ] 0.75 deg -1.5:1.5\n",
      "Ch 8 seems a good one\n",
      "4 mins 5 blocks\n",
      "\n",
      "Exp 1\t Alfa64chan-10032020-002\t 200310_Alfa_rfMapper_basic(1)\n",
      "002 RF Mapping\n",
      "[0 0 ] 2 deg -8:2:8\n",
      "Bigger image rf mapping\n",
      "Center starts to appear\n",
      "8 mins 7 blocks\n",
      "\n",
      "Exp 2\t Alfa64chan-10032020-003\t 200310_Alfa_generate_integrated(1)\n",
      "003 Generate Integrated starts 13:50\n",
      "13 [-0.8 -1.3 ] CMAES\n",
      "13 [-0.8 -1.3 ] ZOHA_Sphere_lr\n",
      "Lr schedule, 70deg to 7.33 deg in 100 generations.\n",
      "Optimizer compare\n",
      "CMAES and ZOHA all struggle to take off\n",
      "Maybe this is too noisy….. Should choose a cleaner signal than this\n",
      "15 mins finish 20 blocks of parallel evolution….Works like machine\n",
      "Neither is successful.… cannot say anything\n",
      "\n",
      "Exp 3\t Alfa64chan-10032020-004\t 200310_Alfa_generate_integrated(2)\n",
      "004 Generate Integrated Starts 14:12\n",
      "8 [-0 -0 ] 1 CMAES\n",
      "8 [-0 -0 ] 1 ZOHA_Sphere_lr\n",
      "According to the ref images, it really likes black white grating things.\n",
      "Cant see eye, close out after this one.\n",
      "Note the response onset is pretty late! ~ 100ms\n",
      "22min 23 blocks~\n",
      "Terminate around 30, see if we can do better\n",
      "\n",
      "Exp 4\t Alfa64chan-10032020-005\t 200310_Alfa_generate_integrated(3)\n",
      "005 Generate Integrated Starts 14:48\n",
      "20 [-0 -3.5 ] 1 CMAES\n",
      "20 [-0 -3.5 ] 1 ZOHA_Sphere_lr\n",
      "Used the reference from last GI…..PSTH looks health and good!\n",
      "Response is healthy but the Score isn't going up very well…. Stays the same basically.\n",
      "Seems CMAES goes up around 15 gens, not significantly but good. ZOHA is always fluctuating.\n",
      "ZOHA beat by CMAES!\n",
      "40 mins\n",
      "\n",
      "Exp 5\t Alfa64chan-10032020-006\t 200310_Alfa_generate_integrated(4)\n",
      "006 Generate Integrated starts 15:29\n",
      "48  [-0.2 -0.4 ] 1 CMAES\n",
      "48  [-0.2 -0.4 ] 1 ZOHA_Sphere_lr\n",
      "Maybe we should try a simple cell in V1 V4 to see if anything is working or not .\n",
      "Health transient response of V1\n",
      "2 optimizers go up and down consistently\n",
      "25 mins 11 blocks.\n",
      "CMA-ES evolves a second peak!!! Insane! Will be interesting to see if there is any correlated signal in the 2nd peak.\n",
      "16 gens the 2nd peak evolve even greater!\n",
      "40 mins 16 blocks\n"
     ]
    },
    {
     "name": "stderr",
     "output_type": "stream",
     "text": [
      "C:\\ProgramData\\Anaconda3\\lib\\site-packages\\ipykernel_launcher.py:41: SettingWithCopyWarning: \n",
      "A value is trying to be set on a copy of a slice from a DataFrame\n",
      "\n",
      "See the caveats in the documentation: http://pandas.pydata.org/pandas-docs/stable/indexing.html#indexing-view-versus-copy\n",
      "C:\\ProgramData\\Anaconda3\\lib\\site-packages\\ipykernel_launcher.py:42: SettingWithCopyWarning: \n",
      "A value is trying to be set on a copy of a slice from a DataFrame\n",
      "\n",
      "See the caveats in the documentation: http://pandas.pydata.org/pandas-docs/stable/indexing.html#indexing-view-versus-copy\n",
      "C:\\ProgramData\\Anaconda3\\lib\\site-packages\\ipykernel_launcher.py:43: SettingWithCopyWarning: \n",
      "A value is trying to be set on a copy of a slice from a DataFrame\n",
      "\n",
      "See the caveats in the documentation: http://pandas.pydata.org/pandas-docs/stable/indexing.html#indexing-view-versus-copy\n",
      "C:\\ProgramData\\Anaconda3\\lib\\site-packages\\ipykernel_launcher.py:45: SettingWithCopyWarning: \n",
      "A value is trying to be set on a copy of a slice from a DataFrame\n",
      "\n",
      "See the caveats in the documentation: http://pandas.pydata.org/pandas-docs/stable/indexing.html#indexing-view-versus-copy\n"
     ]
    },
    {
     "name": "stdout",
     "output_type": "stream",
     "text": [
      "0 stimuli missing\n"
     ]
    }
   ],
   "source": [
    "Animal = \"Alfa\" # \"Alfa\" \"ALfa\"\n",
    "df_sort = process_concat_cells(r\"D:\\ExpRecord_tmp.xlsx\", \"D:\\ExpRecord_out.xlsx\", animal=Animal)"
   ]
  },
  {
   "cell_type": "code",
   "execution_count": 34,
   "metadata": {
    "scrolled": true
   },
   "outputs": [
    {
     "name": "stderr",
     "output_type": "stream",
     "text": [
      "C:\\ProgramData\\Anaconda3\\lib\\site-packages\\ipykernel_launcher.py:16: SettingWithCopyWarning: \n",
      "A value is trying to be set on a copy of a slice from a DataFrame\n",
      "\n",
      "See the caveats in the documentation: http://pandas.pydata.org/pandas-docs/stable/indexing.html#indexing-view-versus-copy\n",
      "  app.launch_new_instance()\n",
      "C:\\ProgramData\\Anaconda3\\lib\\site-packages\\ipykernel_launcher.py:17: FutureWarning: Sorting because non-concatenation axis is not aligned. A future version\n",
      "of pandas will change to not sort by default.\n",
      "\n",
      "To accept the future behavior, pass 'sort=True'.\n",
      "\n",
      "To retain the current behavior and silence the warning, pass sort=False\n",
      "\n"
     ]
    }
   ],
   "source": [
    "if Animal == \"Beto\":\n",
    "    table_old = r\"S:\\ExpSpecTable_Augment.xlsx\"\n",
    "elif Animal == \"Alfa\":\n",
    "    table_old = r\"S:\\Exp_Record_Alfa.xlsx\"\n",
    "df_cat = concat_table(table_old, r\"D:\\ExpRecord_out.xlsx\", addexplabel=\"Optim_tuning\")"
   ]
  },
  {
   "cell_type": "code",
   "execution_count": 22,
   "metadata": {},
   "outputs": [
    {
     "name": "stderr",
     "output_type": "stream",
     "text": [
      "C:\\ProgramData\\Anaconda3\\lib\\site-packages\\ipykernel_launcher.py:1: SettingWithCopyWarning: \n",
      "A value is trying to be set on a copy of a slice from a DataFrame\n",
      "\n",
      "See the caveats in the documentation: http://pandas.pydata.org/pandas-docs/stable/indexing.html#indexing-view-versus-copy\n",
      "  \"\"\"Entry point for launching an IPython kernel.\n"
     ]
    }
   ],
   "source": [
    "df_sort.Exp_collection[:] = \"SUHash\""
   ]
  },
  {
   "cell_type": "code",
   "execution_count": 31,
   "metadata": {},
   "outputs": [],
   "source": [
    "!S:\\ExpSpecTable_Augment.xlsx"
   ]
  },
  {
   "cell_type": "code",
   "execution_count": 30,
   "metadata": {},
   "outputs": [
    {
     "name": "stderr",
     "output_type": "stream",
     "text": [
      "The process cannot access the file because it is being used by another process.\n"
     ]
    }
   ],
   "source": [
    "!S:\\Exp_Record_Alfa.xlsx"
   ]
  },
  {
   "cell_type": "markdown",
   "metadata": {},
   "source": [
    "## Matlab Data Processing"
   ]
  },
  {
   "cell_type": "code",
   "execution_count": 5,
   "metadata": {},
   "outputs": [
    {
     "name": "stdout",
     "output_type": "stream",
     "text": [
      "\n"
     ]
    }
   ],
   "source": [
    "format compact"
   ]
  },
  {
   "cell_type": "code",
   "execution_count": 1,
   "metadata": {
    "collapsed": true
   },
   "outputs": [
    {
     "name": "stdout",
     "output_type": "stream",
     "text": [
      "Drive already SUBSTed \n",
      "\n",
      "ans =\n",
      "\n",
      "     1\n",
      "\n",
      "\n"
     ]
    }
   ],
   "source": [
    "Set_Path;"
   ]
  },
  {
   "cell_type": "code",
   "execution_count": 4,
   "metadata": {},
   "outputs": [
    {
     "name": "stdout",
     "output_type": "stream",
     "text": [
      "\n"
     ]
    }
   ],
   "source": [
    "winopen(\"S:\\ExpSpecTable_Augment.xlsx\")"
   ]
  },
  {
   "cell_type": "code",
   "execution_count": 2,
   "metadata": {},
   "outputs": [
    {
     "name": "stdout",
     "output_type": "stream",
     "text": [
      "\n"
     ]
    }
   ],
   "source": [
    "open(\"Project_Manifold_Beto_loadRaw\")"
   ]
  },
  {
   "cell_type": "code",
   "execution_count": 3,
   "metadata": {},
   "outputs": [
    {
     "name": "stdout",
     "output_type": "stream",
     "text": [
      "\n"
     ]
    }
   ],
   "source": [
    "open(\"Evol_Optimizer_Cmp\")"
   ]
  },
  {
   "cell_type": "code",
   "execution_count": 5,
   "metadata": {},
   "outputs": [
    {
     "name": "stderr",
     "output_type": "stream",
     "text": [
      "\u001b[1;31m\n",
      "  File D:\\Poncelab_Github\\data-loading-code\\plxread_fullExperiment_vcrp.m, line 23, in plxread_fullExperiment_vcrp\n",
      "\n",
      "  File D:\\Poncelab_Github\\data-loading-code\\loadData.m, line 98, in loadData\n",
      "\n",
      "  File D:\\Github\\Monkey_Visual_Experiment_Data_Processing\\Project_Manifold_Beto_loadRaw.m, line 17, in Project_Manifold_Beto_loadRaw\n",
      "Unrecognized function or variable 'OpenedFileName'.\n",
      "\n",
      "\u001b[0m"
     ]
    },
    {
     "ename": "Error",
     "evalue": -1,
     "output_type": "error",
     "traceback": "\n  File D:\\Poncelab_Github\\data-loading-code\\plxread_fullExperiment_vcrp.m, line 23, in plxread_fullExperiment_vcrp\n\n  File D:\\Poncelab_Github\\data-loading-code\\loadData.m, line 98, in loadData\n\n  File D:\\Github\\Monkey_Visual_Experiment_Data_Processing\\Project_Manifold_Beto_loadRaw.m, line 17, in Project_Manifold_Beto_loadRaw\nUnrecognized function or variable 'OpenedFileName'.\n"
    }
   ],
   "source": [
    "expftr = contains(ExpSpecTable_Aug.expControlFN,\"200225\");\n",
    "% expftr = contains(ExpSpecTable_Aug.expControlFN,\"generate\") & ...\n",
    "%      contains(ExpSpecTable_Aug.Exp_collection, \"Optimizer_cmp\");\n",
    "%  ExpSpecTable_Aug.Expi<=5 & ExpSpecTable_Aug.Expi>=4 & ...\n",
    "[meta_new,rasters_new,lfps_new,Trials_new] = Project_Manifold_Beto_loadRaw(find(expftr)); "
   ]
  }
 ],
 "metadata": {
  "kernelspec": {
   "display_name": "Python [conda env:root] *",
   "language": "python",
   "name": "conda-root-py"
  },
  "language_info": {
   "codemirror_mode": {
    "name": "ipython",
    "version": 3
   },
   "file_extension": ".py",
   "mimetype": "text/x-python",
   "name": "python",
   "nbconvert_exporter": "python",
   "pygments_lexer": "ipython3",
   "version": "3.6.5"
  }
 },
 "nbformat": 4,
 "nbformat_minor": 2
}
