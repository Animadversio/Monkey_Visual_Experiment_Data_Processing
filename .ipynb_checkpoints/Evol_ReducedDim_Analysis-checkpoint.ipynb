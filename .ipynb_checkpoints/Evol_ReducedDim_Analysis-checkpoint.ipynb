{
 "cells": [
  {
   "cell_type": "markdown",
   "metadata": {},
   "source": [
    "## Exp Record Editting"
   ]
  },
  {
   "cell_type": "code",
   "execution_count": 17,
   "metadata": {},
   "outputs": [],
   "source": [
    "import pandas as pd\n",
    "import numpy as np\n",
    "df = pd.read_excel(r\"D:\\ExpRecord_tmp.xlsx\")\n",
    "df_formal = pd.read_excel(r\"S:\\ExpSpecTable_Augment.xlsx\")"
   ]
  },
  {
   "cell_type": "code",
   "execution_count": 18,
   "metadata": {
    "scrolled": true
   },
   "outputs": [],
   "source": [
    "def process_concat_cells(df, out_excel, animal):\n",
    "    if isinstance(df,str):\n",
    "        df = pd.read_excel(df)\n",
    "    df = df.dropna(axis=0, how='all') # drop lines full with nan\n",
    "    df = df.reset_index(drop=True)  # (index=range(df.shape[0]))  # make the index contiguous!\n",
    "    row_num = df.shape[0]\n",
    "    #%%\n",
    "    msk = ~ df.ephysFN.isna()  # 500 rows\n",
    "    # df.ephysFN[msk].str.contains(\"Alfa\")  # 436 rows containing Alfa\n",
    "    ExpEphysNames = df.ephysFN[df.ephysFN.str.contains(Animal)==True]\n",
    "    RowidEphs = ExpEphysNames.index\n",
    "    if Animal is \"Alfa\":\n",
    "        search_str = \"Alfa|ALfa\"\n",
    "    else:\n",
    "        search_str = \"Beto\"\n",
    "    ExpBhv2Names = df.expControlFN[df.expControlFN.str.contains(search_str)==True]\n",
    "    RowidBhv = ExpEphysNames.index\n",
    "    assert RowidEphs is RowidBhv\n",
    "    #%%\n",
    "    df.comments.fillna(value=\"\", inplace=True)\n",
    "    df.comments = df.comments.astype(\"str\")\n",
    "    df.stimuli.fillna(value=\"\", inplace=True)\n",
    "    df.stimuli = df.stimuli.astype(\"str\")\n",
    "    #%%\n",
    "    for Expi, rowi in enumerate(RowidEphs):\n",
    "        if Expi != len(RowidEphs) - 1:\n",
    "            nextrow = RowidEphs[Expi + 1]\n",
    "        else:\n",
    "            nextrow = row_num\n",
    "        print(\"\\nExp %d\\t %s\\t %s\"%( Expi, df.ephysFN[rowi], df.expControlFN[rowi]))\n",
    "        print(df.comments[rowi:nextrow].str.cat(sep=\"\\n\"))\n",
    "    #%%\n",
    "    stimuli_miss_cnt = 0\n",
    "    df_sort = df[df.ephysFN.str.contains(Animal)==True]\n",
    "    df_sort = df_sort.reset_index(drop=True)\n",
    "    for Expi, rowi in enumerate(RowidEphs):\n",
    "        if Expi != len(RowidEphs) - 1:\n",
    "            nextrow = RowidEphs[Expi + 1]\n",
    "        else:\n",
    "            nextrow = row_num\n",
    "        df_sort.comments[Expi] = df.comments[rowi:nextrow].str.cat(sep=\"\\n\")\n",
    "        df_sort.ephysFN[Expi] = df.ephysFN[rowi]\n",
    "        df_sort.expControlFN[Expi] = df.expControlFN[rowi]\n",
    "        if \"Stimuli\" in df.stimuli[rowi]:\n",
    "            df_sort.stimuli[Expi] = df.stimuli[rowi]\n",
    "        else:\n",
    "            df_sort.stimuli[Expi] = \"\"\n",
    "            stimuli_miss_cnt += 1\n",
    "            # print out info for further examination\n",
    "            print(\"\\nExp %d\\t %s\\t %s\" % (Expi, df.ephysFN[rowi], df.expControlFN[rowi]))\n",
    "            print(df.stimuli[rowi:nextrow].str.cat(sep=\"\"))\n",
    "            if (\"Abort\" in df_sort.comments[Expi]) or (\"abort\" in df_sort.comments[Expi]):\n",
    "                print(\"Do aborted! No worry.\")\n",
    "    print(stimuli_miss_cnt, \"stimuli missing\")\n",
    "    #%%\n",
    "    df_sort.to_excel(out_excel,index=False)\n",
    "    return df_sort"
   ]
  },
  {
   "cell_type": "code",
   "execution_count": 37,
   "metadata": {},
   "outputs": [
    {
     "data": {
      "text/plain": [
       "141"
      ]
     },
     "execution_count": 37,
     "metadata": {},
     "output_type": "execute_result"
    }
   ],
   "source": [
    "(df_formal.expControlFN==name).nonzero()[0][0]"
   ]
  },
  {
   "cell_type": "code",
   "execution_count": 24,
   "metadata": {},
   "outputs": [],
   "source": [
    "def concat_table(df_old, df_new, addexplabel=None, out_path=None):\n",
    "    if isinstance(df_old,str):\n",
    "        out_path = df_old\n",
    "        df_old = pd.read_excel(df_old)\n",
    "    if isinstance(df_new,str):\n",
    "        df_new = pd.read_excel(df_new)\n",
    "    # Check if the experiments in the new datatable has been recorded\n",
    "    break_flag = False\n",
    "    for name in df_sort.expControlFN:\n",
    "        if (df_old.expControlFN==name).any():\n",
    "            print(\"%s  has been recorded in the excel index %d, please check\"%(name, (df_old.expControlFN==name).nonzero()[0][0]))\n",
    "            break_flag = True\n",
    "    if break_flag:\n",
    "        raise ValueError\n",
    "    if addexplabel is not None:\n",
    "        df_old.Exp_collection[:] = addexplabel\n",
    "    df_cat = pd.concat([df_old,df_new], axis=0, ignore_index=True)\n",
    "    df_cat.to_excel(out_path,index=False)\n",
    "    return df_cat\n",
    "# pd.concat([df_formal,df_sort], axis=0, ignore_index=True)"
   ]
  },
  {
   "cell_type": "code",
   "execution_count": 26,
   "metadata": {
    "scrolled": true
   },
   "outputs": [
    {
     "name": "stdout",
     "output_type": "stream",
     "text": [
      "\n",
      "Exp 0\t Beto-10022020-001\t 200210_Beto_rfMapper_basic\n",
      "001 RFMapping  13:35 starts\n",
      "The Eye calibration takes a lot of time\n",
      "Monkey seems not in its mood in the Alfa's rig.\n",
      "Eye signal very bouncy/noisy\n",
      "\n",
      "Exp 1\t Beto-10022020-002\t 200210_Beto_rfMapper_basic(1)\n",
      "002\n",
      "2nd rf mapping with smaller image\n",
      "Seems like a 2 peaks under equator, may be 2 different RF from 2 different unit?\n",
      "Or is it edge effect, that it's the edge instead of the image center that excites the neuron?\n",
      "\n",
      "Exp 2\t Beto-10022020-005\t nan\n",
      "005\n",
      "2:18 start, carlos moved eye scan, changed setting in both MonkLogic and iscan computer… looks so much better.\n",
      "Channel 39 SU, has 2 SU and 1 hash. Doing hash vs SU trial\n",
      "39 [0,  -0.5]  3 1 CMAES\n",
      "39 [0,  -0.5]  3 2 CMAES\n",
      "02:35:00\n",
      "\n",
      "Exp 3\t Beto64chan-10022020-004\t 200210_Beto_generate_integrated(6)\n",
      "004 at 243 PM better isolation\n",
      "(6)?\n",
      "now it says alfa….\n",
      "Evolved images climbing, made it to block 20.\n",
      "Upped to 200 mL,\n",
      "Stopped at 3:19, plateaued. We were not using gabor stimuli\n",
      "complete\n",
      "\n",
      "Exp 4\t Beto64chan-10022020-006\t 200210_Beto_selectivity_basic(1)\n",
      "Selectivity basic, start at 3:22.\n",
      "Channel 39 [0, -0.5] 3 with gabors\n",
      "ended\n",
      "\n",
      "Exp 5\t Beto-07022020-004\t 200207_Beto_generate_integrated(1)\n",
      "004 at 1023\n",
      "SU VS HASH\n",
      "39 (0,-0.5) 3 1 CMAES, SU 1/5\n",
      "39 (0,-0.5) 3 2 CMAES\n",
      "MATLAB CRASHED!!!!!\n",
      "File seems intact, though\n",
      "\n",
      "Exp 6\t Beto-14022020-001\t 200214_Beto_rfMapper_basic(3)\n",
      "001 RFMapper starts 13:53\n",
      "Monkey is just not working ….. Sleep for a while\n",
      "-8:2:8 2 deg image!\n",
      "Coarse level mapping\n",
      "RFMapper Basic (3)\n",
      "Completed\n",
      "\n",
      "Exp 7\t Beto-14022020-002\t 200214_Beto_rfMapper_basic(4)\n",
      "002 RFMapping\n",
      "Monkey\n",
      "-1.5:0.5:1.5 1deg image\n",
      "It works well!!\n",
      "Also a 2 peak 2 spot Receptive field, This time there is a major one and a minor one.\n",
      "Finish 4 blocks in 5 mins!\n",
      "RFMapper Basic (4)\n",
      "Completed\n",
      "\n",
      "Exp 8\t Beto-14022020-003\t 200214_Beto_generate_integrated(1)\n",
      "003 generate_integrated 48 mins\n",
      "39 [0, -0.2] 3 1 CMAES\n",
      "39 [0, -0.2] 3 2 CMAES\n",
      "Start at 2:23\n",
      "This will be the only experiment for the day, so giving him lots of water\n",
      "Seems The reference images are not copied correctly but seems fine!(forget to use Gabor stimuli)\n",
      "Nice Evolution.\n",
      "Finished 15:13 Completed\n",
      "\n",
      "Exp 9\t Beto-19022020-004\t 200219_Beto_generate_integrated(1)\n",
      "004 generate_integrated starts 14:23 (go for 90 mins)\n",
      "ITI 390-500ms it's normal!\n",
      "25 [0 0 ] 3 1 CMAES\n",
      "25 [0 0 ] 3 2 CMAES\n",
      "seems the Hash is not very evolvable.???\n",
      "PSTH have visually responsive component but not very large?\n",
      "25 A evolves as normal, and 25 B is not very responsive….? But starts to evolve at 13\n",
      "Hash evolution is just not very successful .\n",
      "Complete\n",
      "\n",
      "Exp 10\t Beto-20022020-001\t 200220_Beto_rfMapper_basic\n",
      "Hp at 930\n",
      "001 at 950 AM\n",
      "GOTTA FIX THAT WAITING FOR DATA ACQUISITION TO START TIMEOUT\n",
      "nice SU in 41\n",
      "still getting header words do not match error sometimes.\n",
      "he's not that engaged. 21 correct trials in 7 minutes. Yikes.\n",
      "850 ITI. Gotta fix that.\n",
      "15 minutes in, 65 trials. Oof.\n",
      "that 41 is not super responsive\n",
      "\n",
      "Exp 11\t Beto-20022020-002\t 200220_Beto_rfMapper_basic(1)\n",
      "002 at 1012 AM\n",
      "rf mapping, finer grid\n",
      "\n",
      "Exp 12\t Beto-20022020-003\t 200220_Beto_generate_integrated\n",
      "003 at 1030 AM\n",
      "integrated, SU vs hash\n",
      "41, (0,-0.5) 3 1 'CMAES'\n",
      "41 (0,-0.5) 3 2 'CMAES'\n",
      "Block 23, still climbing, added 30 aq reward with 100 ms\n",
      "Stopped at 11:26, 28 blocks complete\n",
      "\n",
      "Exp 0\t Beto-10022020-001\t 200210_Beto_rfMapper_basic\n",
      ".\n"
     ]
    },
    {
     "name": "stderr",
     "output_type": "stream",
     "text": [
      "C:\\ProgramData\\Anaconda3\\lib\\site-packages\\ipykernel_launcher.py:41: SettingWithCopyWarning: \n",
      "A value is trying to be set on a copy of a slice from a DataFrame\n",
      "\n",
      "See the caveats in the documentation: http://pandas.pydata.org/pandas-docs/stable/indexing.html#indexing-view-versus-copy\n",
      "C:\\ProgramData\\Anaconda3\\lib\\site-packages\\ipykernel_launcher.py:42: SettingWithCopyWarning: \n",
      "A value is trying to be set on a copy of a slice from a DataFrame\n",
      "\n",
      "See the caveats in the documentation: http://pandas.pydata.org/pandas-docs/stable/indexing.html#indexing-view-versus-copy\n",
      "C:\\ProgramData\\Anaconda3\\lib\\site-packages\\ipykernel_launcher.py:43: SettingWithCopyWarning: \n",
      "A value is trying to be set on a copy of a slice from a DataFrame\n",
      "\n",
      "See the caveats in the documentation: http://pandas.pydata.org/pandas-docs/stable/indexing.html#indexing-view-versus-copy\n",
      "C:\\ProgramData\\Anaconda3\\lib\\site-packages\\ipykernel_launcher.py:47: SettingWithCopyWarning: \n",
      "A value is trying to be set on a copy of a slice from a DataFrame\n",
      "\n",
      "See the caveats in the documentation: http://pandas.pydata.org/pandas-docs/stable/indexing.html#indexing-view-versus-copy\n",
      "C:\\ProgramData\\Anaconda3\\lib\\site-packages\\ipykernel_launcher.py:45: SettingWithCopyWarning: \n",
      "A value is trying to be set on a copy of a slice from a DataFrame\n",
      "\n",
      "See the caveats in the documentation: http://pandas.pydata.org/pandas-docs/stable/indexing.html#indexing-view-versus-copy\n"
     ]
    },
    {
     "name": "stdout",
     "output_type": "stream",
     "text": [
      "\n",
      "Exp 1\t Beto-10022020-002\t 200210_Beto_rfMapper_basic(1)\n",
      ".\n",
      "\n",
      "Exp 4\t Beto64chan-10022020-006\t 200210_Beto_selectivity_basic(1)\n",
      "\n",
      "\n",
      "Exp 10\t Beto-20022020-001\t 200220_Beto_rfMapper_basic\n",
      "\n",
      "\n",
      "Exp 11\t Beto-20022020-002\t 200220_Beto_rfMapper_basic(1)\n",
      "\n",
      "5 stimuli missing\n"
     ]
    }
   ],
   "source": [
    "Animal = \"Beto\" # \"Alfa\" \"ALfa\"\n",
    "df_sort = process_concat_cells(r\"D:\\ExpRecord_tmp.xlsx\", \"D:\\ExpRecord_out.xlsx\", animal=\"Beto\")"
   ]
  },
  {
   "cell_type": "code",
   "execution_count": 22,
   "metadata": {},
   "outputs": [
    {
     "name": "stderr",
     "output_type": "stream",
     "text": [
      "C:\\ProgramData\\Anaconda3\\lib\\site-packages\\ipykernel_launcher.py:1: SettingWithCopyWarning: \n",
      "A value is trying to be set on a copy of a slice from a DataFrame\n",
      "\n",
      "See the caveats in the documentation: http://pandas.pydata.org/pandas-docs/stable/indexing.html#indexing-view-versus-copy\n",
      "  \"\"\"Entry point for launching an IPython kernel.\n"
     ]
    }
   ],
   "source": [
    "df_sort.Exp_collection[:] = \"SUHash\""
   ]
  },
  {
   "cell_type": "code",
   "execution_count": 28,
   "metadata": {
    "scrolled": true
   },
   "outputs": [
    {
     "name": "stderr",
     "output_type": "stream",
     "text": [
      "C:\\ProgramData\\Anaconda3\\lib\\site-packages\\ipykernel_launcher.py:16: SettingWithCopyWarning: \n",
      "A value is trying to be set on a copy of a slice from a DataFrame\n",
      "\n",
      "See the caveats in the documentation: http://pandas.pydata.org/pandas-docs/stable/indexing.html#indexing-view-versus-copy\n",
      "  app.launch_new_instance()\n"
     ]
    }
   ],
   "source": [
    "df_cat = concat_table(r\"S:\\ExpSpecTable_Augment.xlsx\", r\"D:\\ExpRecord_out.xlsx\", addexplabel=\"SUHash\")"
   ]
  },
  {
   "cell_type": "code",
   "execution_count": 16,
   "metadata": {},
   "outputs": [],
   "source": [
    "!S:\\ExpSpecTable_Augment.xlsx"
   ]
  },
  {
   "cell_type": "code",
   "execution_count": 30,
   "metadata": {},
   "outputs": [
    {
     "name": "stderr",
     "output_type": "stream",
     "text": [
      "The process cannot access the file because it is being used by another process.\n"
     ]
    }
   ],
   "source": [
    "!S:\\Exp_Record_Alfa.xlsx"
   ]
  },
  {
   "cell_type": "markdown",
   "metadata": {},
   "source": [
    "## Matlab Data Processing"
   ]
  },
  {
   "cell_type": "code",
   "execution_count": 5,
   "metadata": {},
   "outputs": [
    {
     "name": "stdout",
     "output_type": "stream",
     "text": [
      "\n"
     ]
    }
   ],
   "source": [
    "format compact"
   ]
  },
  {
   "cell_type": "code",
   "execution_count": 1,
   "metadata": {
    "collapsed": true
   },
   "outputs": [
    {
     "name": "stdout",
     "output_type": "stream",
     "text": [
      "Drive already SUBSTed \n",
      "\n",
      "ans =\n",
      "\n",
      "     1\n",
      "\n",
      "\n"
     ]
    }
   ],
   "source": [
    "Set_Path;"
   ]
  },
  {
   "cell_type": "code",
   "execution_count": 4,
   "metadata": {},
   "outputs": [
    {
     "name": "stdout",
     "output_type": "stream",
     "text": [
      "\n"
     ]
    }
   ],
   "source": [
    "winopen(\"S:\\ExpSpecTable_Augment.xlsx\")"
   ]
  },
  {
   "cell_type": "code",
   "execution_count": 2,
   "metadata": {},
   "outputs": [
    {
     "name": "stdout",
     "output_type": "stream",
     "text": [
      "\n"
     ]
    }
   ],
   "source": [
    "open(\"Project_Manifold_Beto_loadRaw\")"
   ]
  },
  {
   "cell_type": "code",
   "execution_count": 3,
   "metadata": {},
   "outputs": [
    {
     "name": "stdout",
     "output_type": "stream",
     "text": [
      "\n"
     ]
    }
   ],
   "source": [
    "open(\"Evol_Optimizer_Cmp\")"
   ]
  },
  {
   "cell_type": "code",
   "execution_count": 5,
   "metadata": {},
   "outputs": [
    {
     "name": "stderr",
     "output_type": "stream",
     "text": [
      "\u001b[1;31m\n",
      "  File D:\\Poncelab_Github\\data-loading-code\\plxread_fullExperiment_vcrp.m, line 23, in plxread_fullExperiment_vcrp\n",
      "\n",
      "  File D:\\Poncelab_Github\\data-loading-code\\loadData.m, line 98, in loadData\n",
      "\n",
      "  File D:\\Github\\Monkey_Visual_Experiment_Data_Processing\\Project_Manifold_Beto_loadRaw.m, line 17, in Project_Manifold_Beto_loadRaw\n",
      "Unrecognized function or variable 'OpenedFileName'.\n",
      "\n",
      "\u001b[0m"
     ]
    },
    {
     "ename": "Error",
     "evalue": -1,
     "output_type": "error",
     "traceback": "\n  File D:\\Poncelab_Github\\data-loading-code\\plxread_fullExperiment_vcrp.m, line 23, in plxread_fullExperiment_vcrp\n\n  File D:\\Poncelab_Github\\data-loading-code\\loadData.m, line 98, in loadData\n\n  File D:\\Github\\Monkey_Visual_Experiment_Data_Processing\\Project_Manifold_Beto_loadRaw.m, line 17, in Project_Manifold_Beto_loadRaw\nUnrecognized function or variable 'OpenedFileName'.\n"
    }
   ],
   "source": [
    "expftr = contains(ExpSpecTable_Aug.expControlFN,\"200225\");\n",
    "% expftr = contains(ExpSpecTable_Aug.expControlFN,\"generate\") & ...\n",
    "%      contains(ExpSpecTable_Aug.Exp_collection, \"Optimizer_cmp\");\n",
    "%  ExpSpecTable_Aug.Expi<=5 & ExpSpecTable_Aug.Expi>=4 & ...\n",
    "[meta_new,rasters_new,lfps_new,Trials_new] = Project_Manifold_Beto_loadRaw(find(expftr)); "
   ]
  },
  {
   "cell_type": "code",
   "execution_count": null,
   "metadata": {},
   "outputs": [],
   "source": []
  }
 ],
 "metadata": {
  "kernelspec": {
   "display_name": "Python [conda env:root] *",
   "language": "python",
   "name": "conda-root-py"
  },
  "language_info": {
   "codemirror_mode": {
    "name": "ipython",
    "version": 3
   },
   "file_extension": ".py",
   "mimetype": "text/x-python",
   "name": "python",
   "nbconvert_exporter": "python",
   "pygments_lexer": "ipython3",
   "version": "3.6.5"
  }
 },
 "nbformat": 4,
 "nbformat_minor": 2
}
