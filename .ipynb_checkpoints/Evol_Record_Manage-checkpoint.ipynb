{
 "cells": [
  {
   "cell_type": "markdown",
   "metadata": {},
   "source": [
    "## Exp Record Editting"
   ]
  },
  {
   "cell_type": "code",
   "execution_count": 1,
   "metadata": {},
   "outputs": [],
   "source": [
    "import pandas as pd\n",
    "import numpy as np\n",
    "df = pd.read_excel(r\"D:\\ExpRecord_tmp.xlsx\")\n",
    "df_formal = pd.read_excel(r\"S:\\ExpSpecTable_Augment.xlsx\")"
   ]
  },
  {
   "cell_type": "code",
   "execution_count": 62,
   "metadata": {
    "scrolled": true
   },
   "outputs": [],
   "source": [
    "def process_concat_cells(df, out_excel, Animal):\n",
    "    \"\"\"Process the raw form excel copied from onenote to well formed excel\n",
    "    Filter the array using `Animal` label\"\"\n",
    "    \"\"\"\n",
    "    if isinstance(df,str):\n",
    "        df = pd.read_excel(df)\n",
    "    df = df.dropna(axis=0, how='all') # drop lines full with nan\n",
    "    df = df.reset_index(drop=True)  # (index=range(df.shape[0]))  # make the index contiguous!\n",
    "    row_num = df.shape[0]\n",
    "    #%%\n",
    "    msk = ~ df.ephysFN.isna()  # 500 rows\n",
    "    # df.ephysFN[msk].str.contains(\"Alfa\")  # 436 rows containing Alfa\n",
    "    if Animal is \"Alfa\":\n",
    "        search_str = \"Alfa|ALfa\"\n",
    "    elif Animal is \"Beto\":\n",
    "        search_str = \"Beto\"\n",
    "    elif Animal is \"Both\":\n",
    "        search_str = \"Beto|Alfa|ALfa\"\n",
    "    else:\n",
    "        search_str = \"Beto|Alfa|ALfa\"\n",
    "    ExpEphysNames = df.ephysFN[df.ephysFN.str.contains(search_str)==True]\n",
    "    RowidEphs = ExpEphysNames.index\n",
    "    ExpBhv2Names = df.expControlFN[df.expControlFN.str.contains(search_str)==True]\n",
    "    RowidBhv = ExpEphysNames.index\n",
    "    assert RowidEphs is RowidBhv\n",
    "    #%%\n",
    "    df.comments.fillna(value=\"\", inplace=True)\n",
    "    df.comments = df.comments.astype(\"str\")\n",
    "    df.stimuli.fillna(value=\"\", inplace=True)\n",
    "    df.stimuli = df.stimuli.astype(\"str\")\n",
    "    #%%\n",
    "    for Expi, rowi in enumerate(RowidEphs):\n",
    "        if Expi != len(RowidEphs) - 1:\n",
    "            nextrow = RowidEphs[Expi + 1]\n",
    "        else:\n",
    "            nextrow = row_num\n",
    "        print(\"\\nExp %d\\t %s\\t %s\"%( Expi, df.ephysFN[rowi], df.expControlFN[rowi]))\n",
    "        print(df.comments[rowi:nextrow].str.cat(sep=\"\\n\"))\n",
    "    # \n",
    "    stimuli_miss_cnt = 0  # Count how many stimuli entries are missed\n",
    "    df_sort = df[df.ephysFN.str.contains(search_str)==True]\n",
    "    df_sort = df_sort.reset_index(drop=True)\n",
    "    for Expi, rowi in enumerate(RowidEphs):\n",
    "        if Expi != len(RowidEphs) - 1:\n",
    "            nextrow = RowidEphs[Expi + 1]\n",
    "        else:\n",
    "            nextrow = row_num\n",
    "        df_sort.comments[Expi] = df.comments[rowi:nextrow].str.cat(sep=\"\\n\")\n",
    "        df_sort.ephysFN[Expi] = df.ephysFN[rowi]\n",
    "        df_sort.expControlFN[Expi] = df.expControlFN[rowi]\n",
    "        if \"Stimuli\" in df.stimuli[rowi]:\n",
    "            df_sort.stimuli[Expi] = df.stimuli[rowi]\n",
    "        else:\n",
    "            df_sort.stimuli[Expi] = \"\"\n",
    "            stimuli_miss_cnt += 1\n",
    "            # print out info for further examination\n",
    "            print(\"\\nExp %d\\t %s\\t %s\" % (Expi, df.ephysFN[rowi], df.expControlFN[rowi]))\n",
    "            print(df.stimuli[rowi:nextrow].str.cat(sep=\"\"))\n",
    "            if (\"Abort\" in df_sort.comments[Expi]) or (\"abort\" in df_sort.comments[Expi]):\n",
    "                print(\"Do aborted! No worry.\")\n",
    "    print(stimuli_miss_cnt, \"stimuli missing\")\n",
    "    #%%\n",
    "    df_sort.to_excel(out_excel,index=False)\n",
    "    return df_sort"
   ]
  },
  {
   "cell_type": "code",
   "execution_count": 37,
   "metadata": {},
   "outputs": [
    {
     "data": {
      "text/plain": [
       "141"
      ]
     },
     "execution_count": 37,
     "metadata": {},
     "output_type": "execute_result"
    }
   ],
   "source": [
    "(df_formal.expControlFN==name).nonzero()[0][0]"
   ]
  },
  {
   "cell_type": "code",
   "execution_count": 60,
   "metadata": {},
   "outputs": [],
   "source": [
    "def concat_table(df_old, df_new, addexplabel=None, out_path=None):\n",
    "    if isinstance(df_old,str):\n",
    "        out_path = df_old\n",
    "        df_old = pd.read_excel(df_old)\n",
    "    if isinstance(df_new,str):\n",
    "        df_new = pd.read_excel(df_new)\n",
    "    # Check if the experiments in the new datatable has been recorded\n",
    "    break_flag = False\n",
    "    for name in df_new.expControlFN:\n",
    "        if (df_old.expControlFN==name).any():\n",
    "            print(\"%s  has been recorded in the excel index %d, please check\"%(name, (df_old.expControlFN==name).nonzero()[0][0]))\n",
    "            break_flag = True\n",
    "    if break_flag:\n",
    "        raise ValueError\n",
    "    if addexplabel is not None:\n",
    "        df_new.Exp_collection[:] = addexplabel\n",
    "    df_cat = pd.concat([df_old,df_new], axis=0, ignore_index=True)\n",
    "    df_cat.to_excel(out_path,index=False)\n",
    "    return df_cat\n",
    "\n",
    "def sort_merge_table(df_sort, addexplabel=None):\n",
    "    Animal_strs = [\"Alfa\", \"Beto\"]\n",
    "    df_paths = [r\"S:\\Exp_Record_Alfa.xlsx\", r\"S:\\ExpSpecTable_Augment.xlsx\"]\n",
    "    if isinstance(df_sort,str):\n",
    "        df_sort = pd.read_excel(df_sort)\n",
    "    # loop through animal name and sort corresponding exp to the collection\n",
    "    for animal, out_path in zip(Animal_strs, df_paths):\n",
    "        print(\"Sort out exp for %s, adding \"%animal)\n",
    "        df_old = pd.read_excel(out_path) # load the old exp collection\n",
    "        id_col = []\n",
    "        for idx in df_sort.index:\n",
    "            name = df_sort.expControlFN[idx]\n",
    "            if animal in name:\n",
    "                if (df_old.expControlFN==name).any():\n",
    "                    print(\"%s  has been recorded in the excel index %d, please check. Skipping.\"%(name, (df_old.expControlFN==name).nonzero()[0][0]))\n",
    "                else:\n",
    "                    id_col.append(idx)\n",
    "        df_ftr = df_sort.iloc[id_col].copy()\n",
    "        print(df_ftr.expControlFN)\n",
    "        if addexplabel is not None:\n",
    "            df_ftr.Exp_collection[:] = addexplabel\n",
    "        df_cat = pd.concat([df_old, df_ftr], axis=0, ignore_index=True)\n",
    "        df_cat.to_excel(out_path,index=False) # write to the excel of all old experiments \n",
    "    return\n",
    "# pd.concat([df_formal,df_sort], axis=0, ignore_index=True)"
   ]
  },
  {
   "cell_type": "code",
   "execution_count": 63,
   "metadata": {},
   "outputs": [
    {
     "name": "stdout",
     "output_type": "stream",
     "text": [
      "\n",
      "Exp 0\t Alfa64chan-19032020-001\t 200319_Alfa_rfMapper_basic\n",
      "001 Rf mapper 2 degrees, 2 [-8 8]\n",
      "Start at 144. 5 blocks complete, stop at 149\n",
      "Completed\n",
      "\n",
      "Exp 1\t Alfa64chan-19032020-002\t 200319_Alfa_rfMapper_basic(1)\n",
      "002 Rf mapper, 1 degree [-2 2]\n",
      "Start at 1:50. 6 blocks complete stop at 152\n",
      "Completed\n",
      "\n",
      "Exp 2\t Alfa64chan-19032020-003\t 200319_Alfa_generate_integrated\n",
      "003 generate integrated starts 13:59\n",
      "50 (-1.0,-2.5) 4 1 ZOHA full\n",
      "50 (-1.0,-2.5) 4 1 ZOHA reduced\n",
      "a beautiful brown convexity\n",
      "Good gap\n",
      "46 mins\n",
      "Completed\n",
      "\n",
      "Exp 3\t Alfa64chan-19032020-004\t 200319_Alfa_generate_integrated(2)\n",
      "004 starts 14:50\n",
      "GI(1) is discarded… didn't start recording\n",
      "50 (-1.0,-2.5) 4 1 ZOHA reduced\n",
      "50 (-1.0,-2.5) 4 1 ZOHA reduced\n",
      "Try 2 reduced to see the variability \n",
      "At least one of them can potentially reach as high.\n",
      "Still a brown convexity!\n",
      "Note thread 1 is pretty unstable….Step size problem? Overshoot\n",
      "PSTH looks promising. \n",
      "Plan to reach 40 and terminates.\n",
      "Completed\n",
      "\n",
      "Exp 4\t Alfa64chan-19032020-005\t 200319_Alfa_generate_integrated(3)\n",
      "46, SU, V1\n",
      "full vs reduced\n",
      "46 (0,0) 3 3 zoha full\n",
      "46 (0,0) 3 3 zoha reduced (50D)\n",
      "visualy responsive\n",
      "Didn't quite finish, but the 2 evolutions are quite intertwined.\n",
      "Completed\n",
      "\n",
      "Exp 5\t Beto-19032020-001\t 200319_Beto_rfMapper_basic\n",
      "001 RFMapping 13:\n",
      "-8:8:8 \n",
      "Carlos' huge image test\n",
      "Completed\n",
      "\n",
      "Exp 6\t Beto-19032020-002\t 200319_Beto_rfMapper_basic(1)\n",
      "002 RFMapping starts 13:36\n",
      "-8:2:8\n",
      "Mid image, 6mins\n",
      "Completed\n",
      "\n",
      "Exp 7\t Beto-19032020-003\t 200319_Beto_rfMapper_basic(2)\n",
      "003 RFMapping starts 13:49\n",
      "-2:1:2\n",
      "Completed\n",
      "\n",
      "Exp 8\t Beto-19032020-004\t 200319_Beto_generate_integrated\n",
      "004 Generate Integrated starts 14:06\n",
      "25 [-1 -1.5 ] 4 1 ZOHA_Sphere_lr_euclid\n",
      "25 [-1 -1.5 ] 4 1 ZOHA_Sphere_lr_euclid_RD\n",
      "A little bit single unit, Maybe we should not split this unit.\n",
      "Still use the Inverse decay + 1.2 learning rate protocol\n",
      "Response is sparse.\n",
      "Starts taking off around gen 7, very slowly.\n",
      "Not very success to take off\n",
      "Not very successful in both……Not an informative comparison?\n",
      "Gen 13, Exploration 41.8 deg seems to take off…… Not really just flucturation.\n",
      "It's a good sign, Full evolution starts to dominate around 20 gens. Around 25 gens reduced starts to take off as well.\n",
      "Interestingly this evolution is pretty unstable, the score keep going up and down.\n",
      "Seems they plateau at around very different spots.\n",
      "Still growing! Exploration 29.2 - 28.2 degs. (This cell is more sensititve to finer changes? )\n",
      "Pretty large gap!\n",
      "27.3 deg, the cell still growng… Maybe single units really likes small exploration? The interaction goes.\n",
      "Really taking off! Around 45!\n",
      "Seems you really need to have a small learning rate for this cell to get to the top of mountain right?\n",
      "How could we test the sharpness of mountain hypothesis? Successfulness of different learning rate tuning schedule? \n",
      "Great evolution! 51gens, the ZOHA full finally plateaued. 51 gens\n",
      "Completed\n",
      "\n",
      "Exp 9\t Beto-19032020-005\t 200319_Beto_generate_integrated(1)\n",
      "005 Generate Integrated starts 15:07\n",
      "25 [-1 -1.5 ] 4 1 CMAES\n",
      "See if CMAES can replicate the really late growing of response.\n",
      "Just curious, not relavent to current exp series, but can serve as control for the final activation level and the learning curve.\n",
      "CMAES goes up and down pretty fast.\n",
      "Seems CMAES's learning curve is smoother.\n",
      "Starts bumpping around.\n",
      "Seems it plateaus pretty early and didn't get the peak up there! Ends 60gens\n",
      "Completed\n",
      "\n",
      "Exp 10\t Beto-19032020-006\t 200319_Beto_generate_integrated(2)\n",
      "006 Generate Integrated starts 15:50\n",
      "39 [0 0 ] 3 2 ZOHA_Sphere_lr_euclid\n",
      "39 [0 0 ] 3 2 ZOHA_Sphere_lr_euclid_RD\n",
      "A fast V1 Hash Evolution comparison.\n",
      "Comes pretty close, just as predicted.\n",
      "maybe 11 generations are enough. Bump him up. 16mins 15 gens\n",
      "Completed\n"
     ]
    },
    {
     "name": "stderr",
     "output_type": "stream",
     "text": [
      "C:\\ProgramData\\Anaconda3\\lib\\site-packages\\ipykernel_launcher.py:48: SettingWithCopyWarning: \n",
      "A value is trying to be set on a copy of a slice from a DataFrame\n",
      "\n",
      "See the caveats in the documentation: http://pandas.pydata.org/pandas-docs/stable/indexing.html#indexing-view-versus-copy\n",
      "C:\\ProgramData\\Anaconda3\\lib\\site-packages\\ipykernel_launcher.py:49: SettingWithCopyWarning: \n",
      "A value is trying to be set on a copy of a slice from a DataFrame\n",
      "\n",
      "See the caveats in the documentation: http://pandas.pydata.org/pandas-docs/stable/indexing.html#indexing-view-versus-copy\n",
      "C:\\ProgramData\\Anaconda3\\lib\\site-packages\\ipykernel_launcher.py:50: SettingWithCopyWarning: \n",
      "A value is trying to be set on a copy of a slice from a DataFrame\n",
      "\n",
      "See the caveats in the documentation: http://pandas.pydata.org/pandas-docs/stable/indexing.html#indexing-view-versus-copy\n",
      "C:\\ProgramData\\Anaconda3\\lib\\site-packages\\ipykernel_launcher.py:52: SettingWithCopyWarning: \n",
      "A value is trying to be set on a copy of a slice from a DataFrame\n",
      "\n",
      "See the caveats in the documentation: http://pandas.pydata.org/pandas-docs/stable/indexing.html#indexing-view-versus-copy\n"
     ]
    },
    {
     "name": "stdout",
     "output_type": "stream",
     "text": [
      "0 stimuli missing\n"
     ]
    }
   ],
   "source": [
    "Animal = \"Both\"#\"Beto\" # \"Alfa\" \"ALfa\"\n",
    "df_sort = process_concat_cells(r\"D:\\ExpRecord_tmp.xlsx\", \"D:\\ExpRecord_out.xlsx\", Animal=Animal)"
   ]
  },
  {
   "cell_type": "code",
   "execution_count": 64,
   "metadata": {},
   "outputs": [
    {
     "data": {
      "text/html": [
       "<div>\n",
       "<style scoped>\n",
       "    .dataframe tbody tr th:only-of-type {\n",
       "        vertical-align: middle;\n",
       "    }\n",
       "\n",
       "    .dataframe tbody tr th {\n",
       "        vertical-align: top;\n",
       "    }\n",
       "\n",
       "    .dataframe thead th {\n",
       "        text-align: right;\n",
       "    }\n",
       "</style>\n",
       "<table border=\"1\" class=\"dataframe\">\n",
       "  <thead>\n",
       "    <tr style=\"text-align: right;\">\n",
       "      <th></th>\n",
       "      <th>ephysFN</th>\n",
       "      <th>expControlFN</th>\n",
       "      <th>stimuli</th>\n",
       "      <th>comments</th>\n",
       "      <th>Exp_collection</th>\n",
       "      <th>Expi</th>\n",
       "      <th>pref_chan</th>\n",
       "      <th>stim_size</th>\n",
       "    </tr>\n",
       "  </thead>\n",
       "  <tbody>\n",
       "    <tr>\n",
       "      <th>0</th>\n",
       "      <td>Alfa64chan-19032020-001</td>\n",
       "      <td>200319_Alfa_rfMapper_basic</td>\n",
       "      <td>N:\\Stimuli\\2019-06-RF-mapping\\2020-03-19-Alfa</td>\n",
       "      <td>001 Rf mapper 2 degrees, 2 [-8 8]\\nStart at 14...</td>\n",
       "      <td>NaN</td>\n",
       "      <td>NaN</td>\n",
       "      <td>NaN</td>\n",
       "      <td>NaN</td>\n",
       "    </tr>\n",
       "    <tr>\n",
       "      <th>1</th>\n",
       "      <td>Alfa64chan-19032020-002</td>\n",
       "      <td>200319_Alfa_rfMapper_basic(1)</td>\n",
       "      <td>N:\\Stimuli\\2019-06-RF-mapping\\2020-03-19-Alfa</td>\n",
       "      <td>002 Rf mapper, 1 degree [-2 2]\\nStart at 1:50....</td>\n",
       "      <td>NaN</td>\n",
       "      <td>NaN</td>\n",
       "      <td>NaN</td>\n",
       "      <td>NaN</td>\n",
       "    </tr>\n",
       "    <tr>\n",
       "      <th>2</th>\n",
       "      <td>Alfa64chan-19032020-003</td>\n",
       "      <td>200319_Alfa_generate_integrated</td>\n",
       "      <td>N:\\Stimuli\\2019-12-Evolutions\\2020-03-19-Alfa-...</td>\n",
       "      <td>003 generate integrated starts 13:59\\n50 (-1.0...</td>\n",
       "      <td>NaN</td>\n",
       "      <td>NaN</td>\n",
       "      <td>NaN</td>\n",
       "      <td>NaN</td>\n",
       "    </tr>\n",
       "    <tr>\n",
       "      <th>3</th>\n",
       "      <td>Alfa64chan-19032020-004</td>\n",
       "      <td>200319_Alfa_generate_integrated(2)</td>\n",
       "      <td>N:\\Stimuli\\2019-12-Evolutions\\2020-03-19-Alfa-...</td>\n",
       "      <td>004 starts 14:50\\nGI(1) is discarded… didn't s...</td>\n",
       "      <td>NaN</td>\n",
       "      <td>NaN</td>\n",
       "      <td>NaN</td>\n",
       "      <td>NaN</td>\n",
       "    </tr>\n",
       "    <tr>\n",
       "      <th>4</th>\n",
       "      <td>Alfa64chan-19032020-005</td>\n",
       "      <td>200319_Alfa_generate_integrated(3)</td>\n",
       "      <td>N:\\Stimuli\\2019-12-Evolutions\\2020-03-19-Alfa-...</td>\n",
       "      <td>46, SU, V1\\nfull vs reduced\\n46 (0,0) 3 3 zoha...</td>\n",
       "      <td>NaN</td>\n",
       "      <td>NaN</td>\n",
       "      <td>NaN</td>\n",
       "      <td>NaN</td>\n",
       "    </tr>\n",
       "    <tr>\n",
       "      <th>5</th>\n",
       "      <td>Beto-19032020-001</td>\n",
       "      <td>200319_Beto_rfMapper_basic</td>\n",
       "      <td>N:\\Stimuli\\2019-06-RF-mapping\\2020-03-19-Beto</td>\n",
       "      <td>001 RFMapping 13:\\n-8:8:8 \\nCarlos' huge image...</td>\n",
       "      <td>NaN</td>\n",
       "      <td>NaN</td>\n",
       "      <td>NaN</td>\n",
       "      <td>NaN</td>\n",
       "    </tr>\n",
       "    <tr>\n",
       "      <th>6</th>\n",
       "      <td>Beto-19032020-002</td>\n",
       "      <td>200319_Beto_rfMapper_basic(1)</td>\n",
       "      <td>N:\\Stimuli\\2019-06-RF-mapping\\2020-03-19-Beto</td>\n",
       "      <td>002 RFMapping starts 13:36\\n-8:2:8\\nMid image,...</td>\n",
       "      <td>NaN</td>\n",
       "      <td>NaN</td>\n",
       "      <td>NaN</td>\n",
       "      <td>NaN</td>\n",
       "    </tr>\n",
       "    <tr>\n",
       "      <th>7</th>\n",
       "      <td>Beto-19032020-003</td>\n",
       "      <td>200319_Beto_rfMapper_basic(2)</td>\n",
       "      <td>N:\\Stimuli\\2019-06-RF-mapping\\2020-03-19-Beto</td>\n",
       "      <td>003 RFMapping starts 13:49\\n-2:1:2\\nCompleted</td>\n",
       "      <td>NaN</td>\n",
       "      <td>NaN</td>\n",
       "      <td>NaN</td>\n",
       "      <td>NaN</td>\n",
       "    </tr>\n",
       "    <tr>\n",
       "      <th>8</th>\n",
       "      <td>Beto-19032020-004</td>\n",
       "      <td>200319_Beto_generate_integrated</td>\n",
       "      <td>N:\\Stimuli\\2019-12-Evolutions\\2020-03-19-Beto-...</td>\n",
       "      <td>004 Generate Integrated starts 14:06\\n25 [-1 -...</td>\n",
       "      <td>NaN</td>\n",
       "      <td>NaN</td>\n",
       "      <td>NaN</td>\n",
       "      <td>NaN</td>\n",
       "    </tr>\n",
       "    <tr>\n",
       "      <th>9</th>\n",
       "      <td>Beto-19032020-005</td>\n",
       "      <td>200319_Beto_generate_integrated(1)</td>\n",
       "      <td>N:\\Stimuli\\2019-12-Evolutions\\2020-03-19-Beto-...</td>\n",
       "      <td>005 Generate Integrated starts 15:07\\n25 [-1 -...</td>\n",
       "      <td>NaN</td>\n",
       "      <td>NaN</td>\n",
       "      <td>NaN</td>\n",
       "      <td>NaN</td>\n",
       "    </tr>\n",
       "    <tr>\n",
       "      <th>10</th>\n",
       "      <td>Beto-19032020-006</td>\n",
       "      <td>200319_Beto_generate_integrated(2)</td>\n",
       "      <td>N:\\Stimuli\\2019-12-Evolutions\\2020-03-19-Beto-...</td>\n",
       "      <td>006 Generate Integrated starts 15:50\\n39 [0 0 ...</td>\n",
       "      <td>NaN</td>\n",
       "      <td>NaN</td>\n",
       "      <td>NaN</td>\n",
       "      <td>NaN</td>\n",
       "    </tr>\n",
       "  </tbody>\n",
       "</table>\n",
       "</div>"
      ],
      "text/plain": [
       "                    ephysFN                        expControlFN  \\\n",
       "0   Alfa64chan-19032020-001          200319_Alfa_rfMapper_basic   \n",
       "1   Alfa64chan-19032020-002       200319_Alfa_rfMapper_basic(1)   \n",
       "2   Alfa64chan-19032020-003     200319_Alfa_generate_integrated   \n",
       "3   Alfa64chan-19032020-004  200319_Alfa_generate_integrated(2)   \n",
       "4   Alfa64chan-19032020-005  200319_Alfa_generate_integrated(3)   \n",
       "5         Beto-19032020-001          200319_Beto_rfMapper_basic   \n",
       "6         Beto-19032020-002       200319_Beto_rfMapper_basic(1)   \n",
       "7         Beto-19032020-003       200319_Beto_rfMapper_basic(2)   \n",
       "8         Beto-19032020-004     200319_Beto_generate_integrated   \n",
       "9         Beto-19032020-005  200319_Beto_generate_integrated(1)   \n",
       "10        Beto-19032020-006  200319_Beto_generate_integrated(2)   \n",
       "\n",
       "                                              stimuli  \\\n",
       "0       N:\\Stimuli\\2019-06-RF-mapping\\2020-03-19-Alfa   \n",
       "1       N:\\Stimuli\\2019-06-RF-mapping\\2020-03-19-Alfa   \n",
       "2   N:\\Stimuli\\2019-12-Evolutions\\2020-03-19-Alfa-...   \n",
       "3   N:\\Stimuli\\2019-12-Evolutions\\2020-03-19-Alfa-...   \n",
       "4   N:\\Stimuli\\2019-12-Evolutions\\2020-03-19-Alfa-...   \n",
       "5       N:\\Stimuli\\2019-06-RF-mapping\\2020-03-19-Beto   \n",
       "6       N:\\Stimuli\\2019-06-RF-mapping\\2020-03-19-Beto   \n",
       "7       N:\\Stimuli\\2019-06-RF-mapping\\2020-03-19-Beto   \n",
       "8   N:\\Stimuli\\2019-12-Evolutions\\2020-03-19-Beto-...   \n",
       "9   N:\\Stimuli\\2019-12-Evolutions\\2020-03-19-Beto-...   \n",
       "10  N:\\Stimuli\\2019-12-Evolutions\\2020-03-19-Beto-...   \n",
       "\n",
       "                                             comments  Exp_collection  Expi  \\\n",
       "0   001 Rf mapper 2 degrees, 2 [-8 8]\\nStart at 14...             NaN   NaN   \n",
       "1   002 Rf mapper, 1 degree [-2 2]\\nStart at 1:50....             NaN   NaN   \n",
       "2   003 generate integrated starts 13:59\\n50 (-1.0...             NaN   NaN   \n",
       "3   004 starts 14:50\\nGI(1) is discarded… didn't s...             NaN   NaN   \n",
       "4   46, SU, V1\\nfull vs reduced\\n46 (0,0) 3 3 zoha...             NaN   NaN   \n",
       "5   001 RFMapping 13:\\n-8:8:8 \\nCarlos' huge image...             NaN   NaN   \n",
       "6   002 RFMapping starts 13:36\\n-8:2:8\\nMid image,...             NaN   NaN   \n",
       "7       003 RFMapping starts 13:49\\n-2:1:2\\nCompleted             NaN   NaN   \n",
       "8   004 Generate Integrated starts 14:06\\n25 [-1 -...             NaN   NaN   \n",
       "9   005 Generate Integrated starts 15:07\\n25 [-1 -...             NaN   NaN   \n",
       "10  006 Generate Integrated starts 15:50\\n39 [0 0 ...             NaN   NaN   \n",
       "\n",
       "    pref_chan  stim_size  \n",
       "0         NaN        NaN  \n",
       "1         NaN        NaN  \n",
       "2         NaN        NaN  \n",
       "3         NaN        NaN  \n",
       "4         NaN        NaN  \n",
       "5         NaN        NaN  \n",
       "6         NaN        NaN  \n",
       "7         NaN        NaN  \n",
       "8         NaN        NaN  \n",
       "9         NaN        NaN  \n",
       "10        NaN        NaN  "
      ]
     },
     "execution_count": 64,
     "metadata": {},
     "output_type": "execute_result"
    }
   ],
   "source": [
    "df_sort"
   ]
  },
  {
   "cell_type": "code",
   "execution_count": 66,
   "metadata": {},
   "outputs": [
    {
     "name": "stdout",
     "output_type": "stream",
     "text": [
      "Sort out exp for Alfa, adding \n",
      "0            200319_Alfa_rfMapper_basic\n",
      "1         200319_Alfa_rfMapper_basic(1)\n",
      "2       200319_Alfa_generate_integrated\n",
      "3    200319_Alfa_generate_integrated(2)\n",
      "4    200319_Alfa_generate_integrated(3)\n",
      "Name: expControlFN, dtype: object\n"
     ]
    },
    {
     "name": "stderr",
     "output_type": "stream",
     "text": [
      "C:\\ProgramData\\Anaconda3\\lib\\site-packages\\ipykernel_launcher.py:41: SettingWithCopyWarning: \n",
      "A value is trying to be set on a copy of a slice from a DataFrame\n",
      "\n",
      "See the caveats in the documentation: http://pandas.pydata.org/pandas-docs/stable/indexing.html#indexing-view-versus-copy\n",
      "C:\\ProgramData\\Anaconda3\\lib\\site-packages\\ipykernel_launcher.py:42: FutureWarning: Sorting because non-concatenation axis is not aligned. A future version\n",
      "of pandas will change to not sort by default.\n",
      "\n",
      "To accept the future behavior, pass 'sort=True'.\n",
      "\n",
      "To retain the current behavior and silence the warning, pass sort=False\n",
      "\n"
     ]
    },
    {
     "name": "stdout",
     "output_type": "stream",
     "text": [
      "Sort out exp for Beto, adding \n",
      "5             200319_Beto_rfMapper_basic\n",
      "6          200319_Beto_rfMapper_basic(1)\n",
      "7          200319_Beto_rfMapper_basic(2)\n",
      "8        200319_Beto_generate_integrated\n",
      "9     200319_Beto_generate_integrated(1)\n",
      "10    200319_Beto_generate_integrated(2)\n",
      "Name: expControlFN, dtype: object\n"
     ]
    }
   ],
   "source": [
    "sort_merge_table(df_sort, addexplabel=\"ReducDimen_Evol\")"
   ]
  },
  {
   "cell_type": "code",
   "execution_count": 12,
   "metadata": {
    "scrolled": true
   },
   "outputs": [
    {
     "name": "stderr",
     "output_type": "stream",
     "text": [
      "C:\\ProgramData\\Anaconda3\\lib\\site-packages\\ipykernel_launcher.py:16: SettingWithCopyWarning: \n",
      "A value is trying to be set on a copy of a slice from a DataFrame\n",
      "\n",
      "See the caveats in the documentation: http://pandas.pydata.org/pandas-docs/stable/indexing.html#indexing-view-versus-copy\n",
      "  app.launch_new_instance()\n"
     ]
    }
   ],
   "source": [
    "if Animal == \"Beto\":\n",
    "    table_old = r\"S:\\ExpSpecTable_Augment.xlsx\"\n",
    "elif Animal == \"Alfa\":\n",
    "    table_old = r\"S:\\Exp_Record_Alfa.xlsx\"\n",
    "df_cat = concat_table(table_old, r\"D:\\ExpRecord_out.xlsx\", addexplabel=\"ReducDimen_Evol\") # \"Optim_tuning\""
   ]
  },
  {
   "cell_type": "code",
   "execution_count": 22,
   "metadata": {},
   "outputs": [
    {
     "name": "stderr",
     "output_type": "stream",
     "text": [
      "C:\\ProgramData\\Anaconda3\\lib\\site-packages\\ipykernel_launcher.py:1: SettingWithCopyWarning: \n",
      "A value is trying to be set on a copy of a slice from a DataFrame\n",
      "\n",
      "See the caveats in the documentation: http://pandas.pydata.org/pandas-docs/stable/indexing.html#indexing-view-versus-copy\n",
      "  \"\"\"Entry point for launching an IPython kernel.\n"
     ]
    }
   ],
   "source": [
    "df_sort.Exp_collection[:] = \"SUHash\""
   ]
  },
  {
   "cell_type": "code",
   "execution_count": 31,
   "metadata": {},
   "outputs": [],
   "source": [
    "!S:\\ExpSpecTable_Augment.xlsx"
   ]
  },
  {
   "cell_type": "code",
   "execution_count": 30,
   "metadata": {},
   "outputs": [
    {
     "name": "stderr",
     "output_type": "stream",
     "text": [
      "The process cannot access the file because it is being used by another process.\n"
     ]
    }
   ],
   "source": [
    "!S:\\Exp_Record_Alfa.xlsx"
   ]
  },
  {
   "cell_type": "markdown",
   "metadata": {},
   "source": [
    "## Matlab Data Processing"
   ]
  },
  {
   "cell_type": "code",
   "execution_count": 5,
   "metadata": {},
   "outputs": [
    {
     "name": "stdout",
     "output_type": "stream",
     "text": [
      "\n"
     ]
    }
   ],
   "source": [
    "format compact"
   ]
  },
  {
   "cell_type": "code",
   "execution_count": 1,
   "metadata": {
    "collapsed": true
   },
   "outputs": [
    {
     "name": "stdout",
     "output_type": "stream",
     "text": [
      "Drive already SUBSTed \n",
      "\n",
      "ans =\n",
      "\n",
      "     1\n",
      "\n",
      "\n"
     ]
    }
   ],
   "source": [
    "Set_Path;"
   ]
  },
  {
   "cell_type": "code",
   "execution_count": 4,
   "metadata": {},
   "outputs": [
    {
     "name": "stdout",
     "output_type": "stream",
     "text": [
      "\n"
     ]
    }
   ],
   "source": [
    "winopen(\"S:\\ExpSpecTable_Augment.xlsx\")"
   ]
  },
  {
   "cell_type": "code",
   "execution_count": 2,
   "metadata": {},
   "outputs": [
    {
     "name": "stdout",
     "output_type": "stream",
     "text": [
      "\n"
     ]
    }
   ],
   "source": [
    "open(\"Project_Manifold_Beto_loadRaw\")"
   ]
  },
  {
   "cell_type": "code",
   "execution_count": 3,
   "metadata": {},
   "outputs": [
    {
     "name": "stdout",
     "output_type": "stream",
     "text": [
      "\n"
     ]
    }
   ],
   "source": [
    "open(\"Evol_Optimizer_Cmp\")"
   ]
  }
 ],
 "metadata": {
  "kernelspec": {
   "display_name": "Python [conda env:root] *",
   "language": "python",
   "name": "conda-root-py"
  },
  "language_info": {
   "codemirror_mode": {
    "name": "ipython",
    "version": 3
   },
   "file_extension": ".py",
   "mimetype": "text/x-python",
   "name": "python",
   "nbconvert_exporter": "python",
   "pygments_lexer": "ipython3",
   "version": "3.6.5"
  }
 },
 "nbformat": 4,
 "nbformat_minor": 2
}
